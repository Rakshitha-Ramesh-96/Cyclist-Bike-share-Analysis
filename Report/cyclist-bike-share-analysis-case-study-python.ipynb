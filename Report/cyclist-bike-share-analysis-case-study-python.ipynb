{
 "cells": [
  {
   "cell_type": "markdown",
   "id": "5d52100e",
   "metadata": {
    "papermill": {
     "duration": 0.014962,
     "end_time": "2023-02-02T10:53:44.912448",
     "exception": false,
     "start_time": "2023-02-02T10:53:44.897486",
     "status": "completed"
    },
    "tags": []
   },
   "source": [
    "# 1. Introduction"
   ]
  },
  {
   "attachments": {
    "cf8519d6-6ae3-4641-9625-925a133f12b5.png": {
     "image/png": "[encoded data removed]"
    }
   },
   "cell_type": "markdown",
   "id": "6445fe53",
   "metadata": {
    "papermill": {
     "duration": 0.012766,
     "end_time": "2023-02-02T10:53:44.938289",
     "exception": false,
     "start_time": "2023-02-02T10:53:44.925523",
     "status": "completed"
    },
    "tags": []
   },
   "source": [
    "   ![Cyclist_bike_share.png](attachment:cf8519d6-6ae3-4641-9625-925a133f12b5.png)\n",
    "\n",
    "\n",
    "This case study is the ***capstone project*** of ***Google Data Analytics Professional Certification***.In this case study I am working as the a junior data analyst in the marketing analyst team at Cyclistic, a fictional bike-share company in Chicago.\n",
    "\n",
    "A bike-share program that features more than 5,800 bicycles and 600 docking stations. Cyclistic sets itself apart by also offering reclining bikes, hand tricycles, and cargo bikes, making bike-share more inclusive to people with disabilities and riders who can’t use a standard two-wheeled bike. The majority of riders opt for traditional bikes; about 8% of riders use the assistive options. Cyclistic users are more likely to ride for leisure, but about 30% use them to commute to work each day.\n",
    "\n",
    "In 2016, Cyclistic launched a successful bike-share offering. Since then, the program has grown to a fleet of 5,824 bicycles that are geotracked and locked into a network of 692 stations across Chicago. The bikes can be unlocked from one station and returned to any other station in the system anytime.\n",
    "\n",
    "The director of marketing believes the company’s future success depends on maximizing the number of annual memberships. Therefore, my team wants to understand how casual riders and annual members use Cyclistic bikes differently.From the insights our team will design new marketing stratergy of converting the casual riders into anual riders.\n",
    "\n",
    "There are 3 pricing plans :  single-ride passes, full-day passes,and annual memberships.\n",
    "Customers who purchase single-ride or full-day passes are referred to as casual riders. Customers\n",
    "who purchase annual memberships are Cyclistic members.\n",
    "\n",
    "In order to answer the key business questions, I followed the steps of the data analysis process :  **ask, prepare, process, analyze, share, and act.**\n",
    "\n"
   ]
  },
  {
   "cell_type": "markdown",
   "id": "54a1172c",
   "metadata": {
    "papermill": {
     "duration": 0.012629,
     "end_time": "2023-02-02T10:53:44.965267",
     "exception": false,
     "start_time": "2023-02-02T10:53:44.952638",
     "status": "completed"
    },
    "tags": []
   },
   "source": [
    "# 2. Ask"
   ]
  },
  {
   "cell_type": "markdown",
   "id": "f77dd8ec",
   "metadata": {
    "papermill": {
     "duration": 0.012779,
     "end_time": "2023-02-02T10:53:44.991126",
     "exception": false,
     "start_time": "2023-02-02T10:53:44.978347",
     "status": "completed"
    },
    "tags": []
   },
   "source": [
    "*** How do annual members and casual riders use Cyclistic bikes differently ?**\n",
    "\n",
    "Stakeholders : \n",
    "\n",
    "1. **Lily Moreno**: The director of marketing.\n",
    "2.**Cyclistic executive team**: The detail-oriented executive team.\n",
    "3.**Cyclistic marketing analytics team:** A team of data analysts who are responsible for collecting, analyzing, and\n",
    "reporting data that helps guide Cyclistic marketing strategy.\n",
    "\n",
    "***  At first Cyclistic executive team will decide whether to approve the recommended marketing program after the data insights and visualizations.**\n",
    "\n",
    "*** Then from the insights our team will design new marketing stratergy of converting the casual riders into anual riders.**"
   ]
  },
  {
   "cell_type": "markdown",
   "id": "bfec1fdc",
   "metadata": {
    "papermill": {
     "duration": 0.012866,
     "end_time": "2023-02-02T10:53:45.016988",
     "exception": false,
     "start_time": "2023-02-02T10:53:45.004122",
     "status": "completed"
    },
    "tags": []
   },
   "source": [
    "# 3. Prepare"
   ]
  },
  {
   "cell_type": "markdown",
   "id": "0cb98b08",
   "metadata": {
    "papermill": {
     "duration": 0.013749,
     "end_time": "2023-02-02T10:53:45.043812",
     "exception": false,
     "start_time": "2023-02-02T10:53:45.030063",
     "status": "completed"
    },
    "tags": []
   },
   "source": [
    "* Data I used is from [https://divvy-tripdata.s3.amazonaws.com/index.html](http://) to analyze and identify trends.The data from December 2021 to November 2022 is used for analysis.\n",
    "\n",
    "* The data is stored in CSV format.There are 12 CSV files ,each file containing one month data.\n",
    "\n",
    "* For the purposes of this case study,the datasets are appropriate.The data has been made available by Motivate International Inc. under this license [https://ride.divvybikes.com/data-license-agreement](http://)\n",
    "\n",
    "* As this data is collected by a real bike sharing company in Chicago, there are no issues with bias or credibility. So its Reliable, Original, Current and Cited (as in ROCCC). I do not think its Comprehensive because this data lacks some information.\n",
    "\n",
    "* As of data Integrity, its Accurate, Consistent and Trustworthy.\n",
    "\n",
    "* data-privacy issues prohibit from using riders’ personally identifiable information. This means that we won’t be able to connect pass purchases to credit card numbers to determine if casual riders live in the Cyclistic service area or if they have purchased multiple single passes"
   ]
  },
  {
   "cell_type": "markdown",
   "id": "f68b66f0",
   "metadata": {
    "papermill": {
     "duration": 0.012455,
     "end_time": "2023-02-02T10:53:45.069221",
     "exception": false,
     "start_time": "2023-02-02T10:53:45.056766",
     "status": "completed"
    },
    "tags": []
   },
   "source": [
    "# 4. Process"
   ]
  },
  {
   "cell_type": "code",
   "execution_count": 1,
   "id": "055e1b10",
   "metadata": {
    "execution": {
     "iopub.execute_input": "2023-02-02T10:53:45.096795Z",
     "iopub.status.busy": "2023-02-02T10:53:45.096032Z",
     "iopub.status.idle": "2023-02-02T10:53:45.969243Z",
     "shell.execute_reply": "2023-02-02T10:53:45.967893Z"
    },
    "papermill": {
     "duration": 0.890232,
     "end_time": "2023-02-02T10:53:45.972192",
     "exception": false,
     "start_time": "2023-02-02T10:53:45.081960",
     "status": "completed"
    },
    "tags": []
   },
   "outputs": [],
   "source": [
    "# Importing the libraries\n",
    "\n",
    "import pandas as pd\n",
    "import matplotlib.pyplot as plt\n",
    "import seaborn as sns"
   ]
  },
  {
   "cell_type": "code",
   "execution_count": 2,
   "id": "a8499093",
   "metadata": {
    "execution": {
     "iopub.execute_input": "2023-02-02T10:53:46.001547Z",
     "iopub.status.busy": "2023-02-02T10:53:46.001031Z",
     "iopub.status.idle": "2023-02-02T10:54:10.781491Z",
     "shell.execute_reply": "2023-02-02T10:54:10.780338Z"
    },
    "papermill": {
     "duration": 24.79826,
     "end_time": "2023-02-02T10:54:10.783778",
     "exception": false,
     "start_time": "2023-02-02T10:53:45.985518",
     "status": "completed"
    },
    "tags": []
   },
   "outputs": [],
   "source": [
    "# Import the csv file for trip_data from December 2021 to November 2022\n",
    "\n",
    "tripdata_2021_12 = pd.read_csv(\"/kaggle/input/cyclistics-historical-trip-data-2021-2022/202112-divvy-tripdata.csv\",parse_dates=True)\n",
    "tripdata_2022_01 = pd.read_csv(\"/kaggle/input/cyclistics-historical-trip-data-2021-2022/202201-divvy-tripdata.csv\",parse_dates=True)\n",
    "tripdata_2022_02 = pd.read_csv(\"/kaggle/input/cyclistics-historical-trip-data-2021-2022/202202-divvy-tripdata.csv\",parse_dates=True)\n",
    "tripdata_2022_03 = pd.read_csv(\"/kaggle/input/cyclistics-historical-trip-data-2021-2022/202203-divvy-tripdata.csv\",parse_dates=True)\n",
    "tripdata_2022_04 = pd.read_csv(\"/kaggle/input/cyclistics-historical-trip-data-2021-2022/202204-divvy-tripdata.csv\",parse_dates=True)\n",
    "tripdata_2022_05 = pd.read_csv(\"/kaggle/input/cyclistics-historical-trip-data-2021-2022/202205-divvy-tripdata.csv\",parse_dates=True)\n",
    "tripdata_2022_06 = pd.read_csv(\"/kaggle/input/cyclistics-historical-trip-data-2021-2022/202206-divvy-tripdata.csv\",parse_dates=True)\n",
    "tripdata_2022_07 = pd.read_csv(\"/kaggle/input/cyclistics-historical-trip-data-2021-2022/202207-divvy-tripdata.csv\",parse_dates=True)\n",
    "tripdata_2022_08 = pd.read_csv(\"/kaggle/input/cyclistics-historical-trip-data-2021-2022/202208-divvy-tripdata.csv\",parse_dates=True)\n",
    "tripdata_2022_09 = pd.read_csv(\"/kaggle/input/cyclistics-historical-trip-data-2021-2022/202209-divvy-tripdata.csv\",parse_dates=True)\n",
    "tripdata_2022_10 = pd.read_csv(\"/kaggle/input/cyclistics-historical-trip-data-2021-2022/202210-divvy-tripdata.csv\",parse_dates=True)\n",
    "tripdata_2022_11 = pd.read_csv(\"/kaggle/input/cyclistics-historical-trip-data-2021-2022/202211-divvy-tripdata.csv\",parse_dates=True)"
   ]
  },
  {
   "cell_type": "code",
   "execution_count": 3,
   "id": "a253f023",
   "metadata": {
    "execution": {
     "iopub.execute_input": "2023-02-02T10:54:10.812218Z",
     "iopub.status.busy": "2023-02-02T10:54:10.811059Z",
     "iopub.status.idle": "2023-02-02T10:54:12.044185Z",
     "shell.execute_reply": "2023-02-02T10:54:12.042934Z"
    },
    "papermill": {
     "duration": 1.250437,
     "end_time": "2023-02-02T10:54:12.047288",
     "exception": false,
     "start_time": "2023-02-02T10:54:10.796851",
     "status": "completed"
    },
    "tags": []
   },
   "outputs": [],
   "source": [
    "# Joining 12 CSV's into 1 and naming it as \"tripdata_21_22\".\n",
    "\n",
    "tripdata_21_22 = pd.concat([tripdata_2021_12,tripdata_2022_01,tripdata_2022_02,tripdata_2022_03,tripdata_2022_04,tripdata_2022_05,tripdata_2022_06,\n",
    "              tripdata_2022_07,tripdata_2022_08,tripdata_2022_09,tripdata_2022_10,tripdata_2022_11],ignore_index = True)"
   ]
  },
  {
   "cell_type": "code",
   "execution_count": 4,
   "id": "4ecae472",
   "metadata": {
    "execution": {
     "iopub.execute_input": "2023-02-02T10:54:12.074517Z",
     "iopub.status.busy": "2023-02-02T10:54:12.074174Z",
     "iopub.status.idle": "2023-02-02T10:54:12.103770Z",
     "shell.execute_reply": "2023-02-02T10:54:12.102764Z"
    },
    "papermill": {
     "duration": 0.045891,
     "end_time": "2023-02-02T10:54:12.106090",
     "exception": false,
     "start_time": "2023-02-02T10:54:12.060199",
     "status": "completed"
    },
    "tags": []
   },
   "outputs": [
    {
     "data": {
      "text/html": [
       "<div>\n",
       "<style scoped>\n",
       "    .dataframe tbody tr th:only-of-type {\n",
       "        vertical-align: middle;\n",
       "    }\n",
       "\n",
       "    .dataframe tbody tr th {\n",
       "        vertical-align: top;\n",
       "    }\n",
       "\n",
       "    .dataframe thead th {\n",
       "        text-align: right;\n",
       "    }\n",
       "</style>\n",
       "<table border=\"1\" class=\"dataframe\">\n",
       "  <thead>\n",
       "    <tr style=\"text-align: right;\">\n",
       "      <th></th>\n",
       "      <th>ride_id</th>\n",
       "      <th>rideable_type</th>\n",
       "      <th>started_at</th>\n",
       "      <th>ended_at</th>\n",
       "      <th>start_station_name</th>\n",
       "      <th>start_station_id</th>\n",
       "      <th>end_station_name</th>\n",
       "      <th>end_station_id</th>\n",
       "      <th>start_lat</th>\n",
       "      <th>start_lng</th>\n",
       "      <th>end_lat</th>\n",
       "      <th>end_lng</th>\n",
       "      <th>member_casual</th>\n",
       "      <th>ride_length</th>\n",
       "      <th>start_weekday</th>\n",
       "    </tr>\n",
       "  </thead>\n",
       "  <tbody>\n",
       "    <tr>\n",
       "      <th>0</th>\n",
       "      <td>46F8167220E4431F</td>\n",
       "      <td>electric_bike</td>\n",
       "      <td>07-12-2021 15:06</td>\n",
       "      <td>07-12-2021 15:13</td>\n",
       "      <td>Laflin St &amp; Cullerton St</td>\n",
       "      <td>13307</td>\n",
       "      <td>Morgan St &amp; Polk St</td>\n",
       "      <td>TA1307000130</td>\n",
       "      <td>41.854833</td>\n",
       "      <td>-87.663660</td>\n",
       "      <td>41.871969</td>\n",
       "      <td>-87.650965</td>\n",
       "      <td>member</td>\n",
       "      <td>0:07:35</td>\n",
       "      <td>3.0</td>\n",
       "    </tr>\n",
       "    <tr>\n",
       "      <th>1</th>\n",
       "      <td>73A77762838B32FD</td>\n",
       "      <td>electric_bike</td>\n",
       "      <td>11-12-2021 03:43</td>\n",
       "      <td>11-12-2021 04:10</td>\n",
       "      <td>LaSalle Dr &amp; Huron St</td>\n",
       "      <td>KP1705001026</td>\n",
       "      <td>Clarendon Ave &amp; Leland Ave</td>\n",
       "      <td>TA1307000119</td>\n",
       "      <td>41.894405</td>\n",
       "      <td>-87.632331</td>\n",
       "      <td>41.967968</td>\n",
       "      <td>-87.650001</td>\n",
       "      <td>casual</td>\n",
       "      <td>0:26:54</td>\n",
       "      <td>7.0</td>\n",
       "    </tr>\n",
       "    <tr>\n",
       "      <th>2</th>\n",
       "      <td>4CF42452054F59C5</td>\n",
       "      <td>electric_bike</td>\n",
       "      <td>15-12-2021 23:10</td>\n",
       "      <td>15-12-2021 23:23</td>\n",
       "      <td>Halsted St &amp; North Branch St</td>\n",
       "      <td>KA1504000117</td>\n",
       "      <td>Broadway &amp; Barry Ave</td>\n",
       "      <td>13137</td>\n",
       "      <td>41.899357</td>\n",
       "      <td>-87.648522</td>\n",
       "      <td>41.937582</td>\n",
       "      <td>-87.644098</td>\n",
       "      <td>member</td>\n",
       "      <td>0:12:46</td>\n",
       "      <td>4.0</td>\n",
       "    </tr>\n",
       "    <tr>\n",
       "      <th>3</th>\n",
       "      <td>3278BA87BF698339</td>\n",
       "      <td>classic_bike</td>\n",
       "      <td>26-12-2021 16:16</td>\n",
       "      <td>26-12-2021 16:30</td>\n",
       "      <td>Halsted St &amp; North Branch St</td>\n",
       "      <td>KA1504000117</td>\n",
       "      <td>LaSalle Dr &amp; Huron St</td>\n",
       "      <td>KP1705001026</td>\n",
       "      <td>41.899390</td>\n",
       "      <td>-87.648545</td>\n",
       "      <td>41.894877</td>\n",
       "      <td>-87.632326</td>\n",
       "      <td>member</td>\n",
       "      <td>0:14:43</td>\n",
       "      <td>1.0</td>\n",
       "    </tr>\n",
       "    <tr>\n",
       "      <th>4</th>\n",
       "      <td>6FF54232576A3B73</td>\n",
       "      <td>electric_bike</td>\n",
       "      <td>30-12-2021 11:31</td>\n",
       "      <td>30-12-2021 11:51</td>\n",
       "      <td>Leavitt St &amp; Chicago Ave</td>\n",
       "      <td>18058</td>\n",
       "      <td>Clark St &amp; Drummond Pl</td>\n",
       "      <td>TA1307000142</td>\n",
       "      <td>41.895579</td>\n",
       "      <td>-87.682024</td>\n",
       "      <td>41.931248</td>\n",
       "      <td>-87.644336</td>\n",
       "      <td>member</td>\n",
       "      <td>0:20:16</td>\n",
       "      <td>5.0</td>\n",
       "    </tr>\n",
       "    <tr>\n",
       "      <th>...</th>\n",
       "      <td>...</td>\n",
       "      <td>...</td>\n",
       "      <td>...</td>\n",
       "      <td>...</td>\n",
       "      <td>...</td>\n",
       "      <td>...</td>\n",
       "      <td>...</td>\n",
       "      <td>...</td>\n",
       "      <td>...</td>\n",
       "      <td>...</td>\n",
       "      <td>...</td>\n",
       "      <td>...</td>\n",
       "      <td>...</td>\n",
       "      <td>...</td>\n",
       "      <td>...</td>\n",
       "    </tr>\n",
       "    <tr>\n",
       "      <th>5733456</th>\n",
       "      <td>C349E243A9BAA6F7</td>\n",
       "      <td>electric_bike</td>\n",
       "      <td>25-11-2022 11:19</td>\n",
       "      <td>25-11-2022 11:31</td>\n",
       "      <td>Wabash Ave &amp; Grand Ave</td>\n",
       "      <td>TA1307000117</td>\n",
       "      <td>NaN</td>\n",
       "      <td>NaN</td>\n",
       "      <td>41.891836</td>\n",
       "      <td>-87.626806</td>\n",
       "      <td>41.890000</td>\n",
       "      <td>-87.620000</td>\n",
       "      <td>member</td>\n",
       "      <td>0:11:58</td>\n",
       "      <td>6.0</td>\n",
       "    </tr>\n",
       "    <tr>\n",
       "      <th>5733457</th>\n",
       "      <td>B0B4E85DA43A9194</td>\n",
       "      <td>classic_bike</td>\n",
       "      <td>22-11-2022 16:57</td>\n",
       "      <td>22-11-2022 17:31</td>\n",
       "      <td>Franklin St &amp; Jackson Blvd</td>\n",
       "      <td>TA1305000025</td>\n",
       "      <td>Sheffield Ave &amp; Wrightwood Ave</td>\n",
       "      <td>TA1309000023</td>\n",
       "      <td>41.877708</td>\n",
       "      <td>-87.635321</td>\n",
       "      <td>41.928712</td>\n",
       "      <td>-87.653833</td>\n",
       "      <td>casual</td>\n",
       "      <td>0:33:36</td>\n",
       "      <td>3.0</td>\n",
       "    </tr>\n",
       "    <tr>\n",
       "      <th>5733458</th>\n",
       "      <td>8D148DD47B59530B</td>\n",
       "      <td>classic_bike</td>\n",
       "      <td>06-11-2022 13:04</td>\n",
       "      <td>06-11-2022 13:13</td>\n",
       "      <td>Michigan Ave &amp; Ida B Wells Dr</td>\n",
       "      <td>TA1305000010</td>\n",
       "      <td>Shedd Aquarium</td>\n",
       "      <td>15544</td>\n",
       "      <td>41.876243</td>\n",
       "      <td>-87.624426</td>\n",
       "      <td>41.867226</td>\n",
       "      <td>-87.615355</td>\n",
       "      <td>casual</td>\n",
       "      <td>0:09:28</td>\n",
       "      <td>1.0</td>\n",
       "    </tr>\n",
       "    <tr>\n",
       "      <th>5733459</th>\n",
       "      <td>0D1170BA18FD33D1</td>\n",
       "      <td>classic_bike</td>\n",
       "      <td>06-11-2022 09:41</td>\n",
       "      <td>06-11-2022 15:17</td>\n",
       "      <td>Halsted St &amp; 18th St</td>\n",
       "      <td>13099</td>\n",
       "      <td>Shedd Aquarium</td>\n",
       "      <td>15544</td>\n",
       "      <td>41.857506</td>\n",
       "      <td>-87.645991</td>\n",
       "      <td>41.867226</td>\n",
       "      <td>-87.615355</td>\n",
       "      <td>casual</td>\n",
       "      <td>5:35:48</td>\n",
       "      <td>1.0</td>\n",
       "    </tr>\n",
       "    <tr>\n",
       "      <th>5733460</th>\n",
       "      <td>09B20DC75B5EA1E0</td>\n",
       "      <td>electric_bike</td>\n",
       "      <td>26-11-2022 11:59</td>\n",
       "      <td>26-11-2022 12:31</td>\n",
       "      <td>Michigan Ave &amp; Ida B Wells Dr</td>\n",
       "      <td>TA1305000010</td>\n",
       "      <td>Shedd Aquarium</td>\n",
       "      <td>15544</td>\n",
       "      <td>41.876272</td>\n",
       "      <td>-87.624576</td>\n",
       "      <td>41.867226</td>\n",
       "      <td>-87.615355</td>\n",
       "      <td>casual</td>\n",
       "      <td>0:31:36</td>\n",
       "      <td>7.0</td>\n",
       "    </tr>\n",
       "  </tbody>\n",
       "</table>\n",
       "<p>5733461 rows × 15 columns</p>\n",
       "</div>"
      ],
      "text/plain": [
       "                  ride_id  rideable_type        started_at          ended_at  \\\n",
       "0        46F8167220E4431F  electric_bike  07-12-2021 15:06  07-12-2021 15:13   \n",
       "1        73A77762838B32FD  electric_bike  11-12-2021 03:43  11-12-2021 04:10   \n",
       "2        4CF42452054F59C5  electric_bike  15-12-2021 23:10  15-12-2021 23:23   \n",
       "3        3278BA87BF698339   classic_bike  26-12-2021 16:16  26-12-2021 16:30   \n",
       "4        6FF54232576A3B73  electric_bike  30-12-2021 11:31  30-12-2021 11:51   \n",
       "...                   ...            ...               ...               ...   \n",
       "5733456  C349E243A9BAA6F7  electric_bike  25-11-2022 11:19  25-11-2022 11:31   \n",
       "5733457  B0B4E85DA43A9194   classic_bike  22-11-2022 16:57  22-11-2022 17:31   \n",
       "5733458  8D148DD47B59530B   classic_bike  06-11-2022 13:04  06-11-2022 13:13   \n",
       "5733459  0D1170BA18FD33D1   classic_bike  06-11-2022 09:41  06-11-2022 15:17   \n",
       "5733460  09B20DC75B5EA1E0  electric_bike  26-11-2022 11:59  26-11-2022 12:31   \n",
       "\n",
       "                    start_station_name start_station_id  \\\n",
       "0             Laflin St & Cullerton St            13307   \n",
       "1                LaSalle Dr & Huron St     KP1705001026   \n",
       "2         Halsted St & North Branch St     KA1504000117   \n",
       "3         Halsted St & North Branch St     KA1504000117   \n",
       "4             Leavitt St & Chicago Ave            18058   \n",
       "...                                ...              ...   \n",
       "5733456         Wabash Ave & Grand Ave     TA1307000117   \n",
       "5733457     Franklin St & Jackson Blvd     TA1305000025   \n",
       "5733458  Michigan Ave & Ida B Wells Dr     TA1305000010   \n",
       "5733459           Halsted St & 18th St            13099   \n",
       "5733460  Michigan Ave & Ida B Wells Dr     TA1305000010   \n",
       "\n",
       "                       end_station_name end_station_id  start_lat  start_lng  \\\n",
       "0                   Morgan St & Polk St   TA1307000130  41.854833 -87.663660   \n",
       "1            Clarendon Ave & Leland Ave   TA1307000119  41.894405 -87.632331   \n",
       "2                  Broadway & Barry Ave          13137  41.899357 -87.648522   \n",
       "3                 LaSalle Dr & Huron St   KP1705001026  41.899390 -87.648545   \n",
       "4                Clark St & Drummond Pl   TA1307000142  41.895579 -87.682024   \n",
       "...                                 ...            ...        ...        ...   \n",
       "5733456                             NaN            NaN  41.891836 -87.626806   \n",
       "5733457  Sheffield Ave & Wrightwood Ave   TA1309000023  41.877708 -87.635321   \n",
       "5733458                  Shedd Aquarium          15544  41.876243 -87.624426   \n",
       "5733459                  Shedd Aquarium          15544  41.857506 -87.645991   \n",
       "5733460                  Shedd Aquarium          15544  41.876272 -87.624576   \n",
       "\n",
       "           end_lat    end_lng member_casual ride_length  start_weekday  \n",
       "0        41.871969 -87.650965        member     0:07:35            3.0  \n",
       "1        41.967968 -87.650001        casual     0:26:54            7.0  \n",
       "2        41.937582 -87.644098        member     0:12:46            4.0  \n",
       "3        41.894877 -87.632326        member     0:14:43            1.0  \n",
       "4        41.931248 -87.644336        member     0:20:16            5.0  \n",
       "...            ...        ...           ...         ...            ...  \n",
       "5733456  41.890000 -87.620000        member     0:11:58            6.0  \n",
       "5733457  41.928712 -87.653833        casual     0:33:36            3.0  \n",
       "5733458  41.867226 -87.615355        casual     0:09:28            1.0  \n",
       "5733459  41.867226 -87.615355        casual     5:35:48            1.0  \n",
       "5733460  41.867226 -87.615355        casual     0:31:36            7.0  \n",
       "\n",
       "[5733461 rows x 15 columns]"
      ]
     },
     "execution_count": 4,
     "metadata": {},
     "output_type": "execute_result"
    }
   ],
   "source": [
    "# Top 5 and bottom 5 rows of the dataframe \"tripdata_21_22\"\n",
    "\n",
    "tripdata_21_22"
   ]
  },
  {
   "cell_type": "markdown",
   "id": "d8315cd5",
   "metadata": {
    "papermill": {
     "duration": 0.012751,
     "end_time": "2023-02-02T10:54:12.132119",
     "exception": false,
     "start_time": "2023-02-02T10:54:12.119368",
     "status": "completed"
    },
    "tags": []
   },
   "source": [
    "# 4.1 Cleaning Process"
   ]
  },
  {
   "cell_type": "code",
   "execution_count": 5,
   "id": "559ec41f",
   "metadata": {
    "execution": {
     "iopub.execute_input": "2023-02-02T10:54:12.160900Z",
     "iopub.status.busy": "2023-02-02T10:54:12.159685Z",
     "iopub.status.idle": "2023-02-02T10:54:12.180767Z",
     "shell.execute_reply": "2023-02-02T10:54:12.179059Z"
    },
    "papermill": {
     "duration": 0.037785,
     "end_time": "2023-02-02T10:54:12.183187",
     "exception": false,
     "start_time": "2023-02-02T10:54:12.145402",
     "status": "completed"
    },
    "tags": []
   },
   "outputs": [
    {
     "name": "stdout",
     "output_type": "stream",
     "text": [
      "<class 'pandas.core.frame.DataFrame'>\n",
      "RangeIndex: 5733461 entries, 0 to 5733460\n",
      "Data columns (total 15 columns):\n",
      " #   Column              Dtype  \n",
      "---  ------              -----  \n",
      " 0   ride_id             object \n",
      " 1   rideable_type       object \n",
      " 2   started_at          object \n",
      " 3   ended_at            object \n",
      " 4   start_station_name  object \n",
      " 5   start_station_id    object \n",
      " 6   end_station_name    object \n",
      " 7   end_station_id      object \n",
      " 8   start_lat           float64\n",
      " 9   start_lng           float64\n",
      " 10  end_lat             float64\n",
      " 11  end_lng             float64\n",
      " 12  member_casual       object \n",
      " 13  ride_length         object \n",
      " 14  start_weekday       float64\n",
      "dtypes: float64(5), object(10)\n",
      "memory usage: 656.1+ MB\n"
     ]
    }
   ],
   "source": [
    "# Checking for missing info\n",
    "\n",
    "tripdata_21_22.info()"
   ]
  },
  {
   "cell_type": "code",
   "execution_count": 6,
   "id": "1078fd8a",
   "metadata": {
    "execution": {
     "iopub.execute_input": "2023-02-02T10:54:12.212548Z",
     "iopub.status.busy": "2023-02-02T10:54:12.211224Z",
     "iopub.status.idle": "2023-02-02T11:02:20.933098Z",
     "shell.execute_reply": "2023-02-02T11:02:20.932072Z"
    },
    "papermill": {
     "duration": 488.738665,
     "end_time": "2023-02-02T11:02:20.935662",
     "exception": false,
     "start_time": "2023-02-02T10:54:12.196997",
     "status": "completed"
    },
    "tags": []
   },
   "outputs": [],
   "source": [
    "# Converting the datatype of \"started_at\"\n",
    "\n",
    "tripdata_21_22[\"started_at\"] = pd.to_datetime(tripdata_21_22[\"started_at\"],dayfirst=True)"
   ]
  },
  {
   "cell_type": "code",
   "execution_count": 7,
   "id": "ecb244d1",
   "metadata": {
    "execution": {
     "iopub.execute_input": "2023-02-02T11:02:20.964565Z",
     "iopub.status.busy": "2023-02-02T11:02:20.964184Z",
     "iopub.status.idle": "2023-02-02T11:10:34.284780Z",
     "shell.execute_reply": "2023-02-02T11:10:34.283767Z"
    },
    "papermill": {
     "duration": 493.338421,
     "end_time": "2023-02-02T11:10:34.287835",
     "exception": false,
     "start_time": "2023-02-02T11:02:20.949414",
     "status": "completed"
    },
    "tags": []
   },
   "outputs": [],
   "source": [
    "# Converting the datatype of \"ended_at\"\n",
    "\n",
    "tripdata_21_22[\"ended_at\"] = pd.to_datetime(tripdata_21_22[\"ended_at\"],dayfirst=True)"
   ]
  },
  {
   "cell_type": "code",
   "execution_count": 8,
   "id": "3389e688",
   "metadata": {
    "execution": {
     "iopub.execute_input": "2023-02-02T11:10:34.318184Z",
     "iopub.status.busy": "2023-02-02T11:10:34.316666Z",
     "iopub.status.idle": "2023-02-02T11:10:35.703655Z",
     "shell.execute_reply": "2023-02-02T11:10:35.702893Z"
    },
    "papermill": {
     "duration": 1.404263,
     "end_time": "2023-02-02T11:10:35.706154",
     "exception": false,
     "start_time": "2023-02-02T11:10:34.301891",
     "status": "completed"
    },
    "tags": []
   },
   "outputs": [],
   "source": [
    "# Dropping the columns which are not relevant for analysis\n",
    "\n",
    "tripdata_21_22.drop(columns = [\"start_station_name\",\"start_station_id\",\"end_station_name\",\"end_station_id\",\"start_lat\",\"start_lng\",\n",
    "                              \"end_lat\",\"end_lng\",\"ride_length\"],inplace = True)"
   ]
  },
  {
   "cell_type": "code",
   "execution_count": 9,
   "id": "0370b059",
   "metadata": {
    "execution": {
     "iopub.execute_input": "2023-02-02T11:10:35.735751Z",
     "iopub.status.busy": "2023-02-02T11:10:35.735419Z",
     "iopub.status.idle": "2023-02-02T11:10:35.808395Z",
     "shell.execute_reply": "2023-02-02T11:10:35.807187Z"
    },
    "papermill": {
     "duration": 0.090148,
     "end_time": "2023-02-02T11:10:35.810556",
     "exception": false,
     "start_time": "2023-02-02T11:10:35.720408",
     "status": "completed"
    },
    "tags": []
   },
   "outputs": [],
   "source": [
    "# Added a new coulmn for the ride length\n",
    "\n",
    "tripdata_21_22[\"ride_length\"] = (tripdata_21_22[\"ended_at\"] - tripdata_21_22[\"started_at\"])/pd.Timedelta(minutes=1)"
   ]
  },
  {
   "cell_type": "code",
   "execution_count": 10,
   "id": "ec825433",
   "metadata": {
    "execution": {
     "iopub.execute_input": "2023-02-02T11:10:35.838330Z",
     "iopub.status.busy": "2023-02-02T11:10:35.837766Z",
     "iopub.status.idle": "2023-02-02T11:10:35.883403Z",
     "shell.execute_reply": "2023-02-02T11:10:35.882540Z"
    },
    "papermill": {
     "duration": 0.061402,
     "end_time": "2023-02-02T11:10:35.885146",
     "exception": false,
     "start_time": "2023-02-02T11:10:35.823744",
     "status": "completed"
    },
    "tags": []
   },
   "outputs": [
    {
     "data": {
      "text/plain": [
       "ride_id          0\n",
       "rideable_type    0\n",
       "started_at       0\n",
       "ended_at         0\n",
       "member_casual    0\n",
       "start_weekday    0\n",
       "ride_length      0\n",
       "dtype: int64"
      ]
     },
     "execution_count": 10,
     "metadata": {},
     "output_type": "execute_result"
    }
   ],
   "source": [
    "# Some of the rows in contains the negative value indication end_date is earlier than start_date\n",
    "\n",
    "tripdata_21_22[tripdata_21_22['ride_length'] < 0].count()"
   ]
  },
  {
   "cell_type": "code",
   "execution_count": 11,
   "id": "3d2999d3",
   "metadata": {
    "execution": {
     "iopub.execute_input": "2023-02-02T11:10:35.913289Z",
     "iopub.status.busy": "2023-02-02T11:10:35.912699Z",
     "iopub.status.idle": "2023-02-02T11:10:35.969637Z",
     "shell.execute_reply": "2023-02-02T11:10:35.968632Z"
    },
    "papermill": {
     "duration": 0.073343,
     "end_time": "2023-02-02T11:10:35.971678",
     "exception": false,
     "start_time": "2023-02-02T11:10:35.898335",
     "status": "completed"
    },
    "tags": []
   },
   "outputs": [
    {
     "data": {
      "text/plain": [
       "ride_id          70701\n",
       "rideable_type    70701\n",
       "started_at       70701\n",
       "ended_at         70701\n",
       "member_casual    70701\n",
       "start_weekday    70701\n",
       "ride_length      70701\n",
       "dtype: int64"
      ]
     },
     "execution_count": 11,
     "metadata": {},
     "output_type": "execute_result"
    }
   ],
   "source": [
    "# Some of the rows contains values less than 60 seconds.They are potentially false starts or users trying to re-dock a bike to ensure it was secure.\n",
    "\n",
    "tripdata_21_22[(tripdata_21_22['ride_length'] < 1) & (tripdata_21_22['ride_length'] >= 0)].count()"
   ]
  },
  {
   "cell_type": "code",
   "execution_count": 12,
   "id": "1e69450b",
   "metadata": {
    "execution": {
     "iopub.execute_input": "2023-02-02T11:10:36.000526Z",
     "iopub.status.busy": "2023-02-02T11:10:35.999666Z",
     "iopub.status.idle": "2023-02-02T11:10:36.827089Z",
     "shell.execute_reply": "2023-02-02T11:10:36.825872Z"
    },
    "papermill": {
     "duration": 0.844191,
     "end_time": "2023-02-02T11:10:36.829372",
     "exception": false,
     "start_time": "2023-02-02T11:10:35.985181",
     "status": "completed"
    },
    "tags": []
   },
   "outputs": [],
   "source": [
    "# Removing the rows where ride length is negative and less than 60 seconds.\n",
    "\n",
    "tripdata_21_22 = tripdata_21_22[tripdata_21_22[\"ride_length\"] >= 1]\n",
    "tripdata_21_22 = tripdata_21_22.reset_index()\n",
    "tripdata_21_22 = tripdata_21_22.drop(columns=['index'])"
   ]
  },
  {
   "cell_type": "code",
   "execution_count": 13,
   "id": "8943d5b5",
   "metadata": {
    "execution": {
     "iopub.execute_input": "2023-02-02T11:10:36.859836Z",
     "iopub.status.busy": "2023-02-02T11:10:36.859489Z",
     "iopub.status.idle": "2023-02-02T11:10:36.880216Z",
     "shell.execute_reply": "2023-02-02T11:10:36.879001Z"
    },
    "papermill": {
     "duration": 0.038357,
     "end_time": "2023-02-02T11:10:36.882319",
     "exception": false,
     "start_time": "2023-02-02T11:10:36.843962",
     "status": "completed"
    },
    "tags": []
   },
   "outputs": [
    {
     "data": {
      "text/html": [
       "<div>\n",
       "<style scoped>\n",
       "    .dataframe tbody tr th:only-of-type {\n",
       "        vertical-align: middle;\n",
       "    }\n",
       "\n",
       "    .dataframe tbody tr th {\n",
       "        vertical-align: top;\n",
       "    }\n",
       "\n",
       "    .dataframe thead th {\n",
       "        text-align: right;\n",
       "    }\n",
       "</style>\n",
       "<table border=\"1\" class=\"dataframe\">\n",
       "  <thead>\n",
       "    <tr style=\"text-align: right;\">\n",
       "      <th></th>\n",
       "      <th>ride_id</th>\n",
       "      <th>rideable_type</th>\n",
       "      <th>started_at</th>\n",
       "      <th>ended_at</th>\n",
       "      <th>member_casual</th>\n",
       "      <th>start_weekday</th>\n",
       "      <th>ride_length</th>\n",
       "    </tr>\n",
       "  </thead>\n",
       "  <tbody>\n",
       "    <tr>\n",
       "      <th>0</th>\n",
       "      <td>46F8167220E4431F</td>\n",
       "      <td>electric_bike</td>\n",
       "      <td>2021-12-07 15:06:00</td>\n",
       "      <td>2021-12-07 15:13:00</td>\n",
       "      <td>member</td>\n",
       "      <td>3.0</td>\n",
       "      <td>7.0</td>\n",
       "    </tr>\n",
       "    <tr>\n",
       "      <th>1</th>\n",
       "      <td>73A77762838B32FD</td>\n",
       "      <td>electric_bike</td>\n",
       "      <td>2021-12-11 03:43:00</td>\n",
       "      <td>2021-12-11 04:10:00</td>\n",
       "      <td>casual</td>\n",
       "      <td>7.0</td>\n",
       "      <td>27.0</td>\n",
       "    </tr>\n",
       "    <tr>\n",
       "      <th>2</th>\n",
       "      <td>4CF42452054F59C5</td>\n",
       "      <td>electric_bike</td>\n",
       "      <td>2021-12-15 23:10:00</td>\n",
       "      <td>2021-12-15 23:23:00</td>\n",
       "      <td>member</td>\n",
       "      <td>4.0</td>\n",
       "      <td>13.0</td>\n",
       "    </tr>\n",
       "    <tr>\n",
       "      <th>3</th>\n",
       "      <td>3278BA87BF698339</td>\n",
       "      <td>classic_bike</td>\n",
       "      <td>2021-12-26 16:16:00</td>\n",
       "      <td>2021-12-26 16:30:00</td>\n",
       "      <td>member</td>\n",
       "      <td>1.0</td>\n",
       "      <td>14.0</td>\n",
       "    </tr>\n",
       "    <tr>\n",
       "      <th>4</th>\n",
       "      <td>6FF54232576A3B73</td>\n",
       "      <td>electric_bike</td>\n",
       "      <td>2021-12-30 11:31:00</td>\n",
       "      <td>2021-12-30 11:51:00</td>\n",
       "      <td>member</td>\n",
       "      <td>5.0</td>\n",
       "      <td>20.0</td>\n",
       "    </tr>\n",
       "    <tr>\n",
       "      <th>...</th>\n",
       "      <td>...</td>\n",
       "      <td>...</td>\n",
       "      <td>...</td>\n",
       "      <td>...</td>\n",
       "      <td>...</td>\n",
       "      <td>...</td>\n",
       "      <td>...</td>\n",
       "    </tr>\n",
       "    <tr>\n",
       "      <th>5662745</th>\n",
       "      <td>C349E243A9BAA6F7</td>\n",
       "      <td>electric_bike</td>\n",
       "      <td>2022-11-25 11:19:00</td>\n",
       "      <td>2022-11-25 11:31:00</td>\n",
       "      <td>member</td>\n",
       "      <td>6.0</td>\n",
       "      <td>12.0</td>\n",
       "    </tr>\n",
       "    <tr>\n",
       "      <th>5662746</th>\n",
       "      <td>B0B4E85DA43A9194</td>\n",
       "      <td>classic_bike</td>\n",
       "      <td>2022-11-22 16:57:00</td>\n",
       "      <td>2022-11-22 17:31:00</td>\n",
       "      <td>casual</td>\n",
       "      <td>3.0</td>\n",
       "      <td>34.0</td>\n",
       "    </tr>\n",
       "    <tr>\n",
       "      <th>5662747</th>\n",
       "      <td>8D148DD47B59530B</td>\n",
       "      <td>classic_bike</td>\n",
       "      <td>2022-11-06 13:04:00</td>\n",
       "      <td>2022-11-06 13:13:00</td>\n",
       "      <td>casual</td>\n",
       "      <td>1.0</td>\n",
       "      <td>9.0</td>\n",
       "    </tr>\n",
       "    <tr>\n",
       "      <th>5662748</th>\n",
       "      <td>0D1170BA18FD33D1</td>\n",
       "      <td>classic_bike</td>\n",
       "      <td>2022-11-06 09:41:00</td>\n",
       "      <td>2022-11-06 15:17:00</td>\n",
       "      <td>casual</td>\n",
       "      <td>1.0</td>\n",
       "      <td>336.0</td>\n",
       "    </tr>\n",
       "    <tr>\n",
       "      <th>5662749</th>\n",
       "      <td>09B20DC75B5EA1E0</td>\n",
       "      <td>electric_bike</td>\n",
       "      <td>2022-11-26 11:59:00</td>\n",
       "      <td>2022-11-26 12:31:00</td>\n",
       "      <td>casual</td>\n",
       "      <td>7.0</td>\n",
       "      <td>32.0</td>\n",
       "    </tr>\n",
       "  </tbody>\n",
       "</table>\n",
       "<p>5662750 rows × 7 columns</p>\n",
       "</div>"
      ],
      "text/plain": [
       "                  ride_id  rideable_type          started_at  \\\n",
       "0        46F8167220E4431F  electric_bike 2021-12-07 15:06:00   \n",
       "1        73A77762838B32FD  electric_bike 2021-12-11 03:43:00   \n",
       "2        4CF42452054F59C5  electric_bike 2021-12-15 23:10:00   \n",
       "3        3278BA87BF698339   classic_bike 2021-12-26 16:16:00   \n",
       "4        6FF54232576A3B73  electric_bike 2021-12-30 11:31:00   \n",
       "...                   ...            ...                 ...   \n",
       "5662745  C349E243A9BAA6F7  electric_bike 2022-11-25 11:19:00   \n",
       "5662746  B0B4E85DA43A9194   classic_bike 2022-11-22 16:57:00   \n",
       "5662747  8D148DD47B59530B   classic_bike 2022-11-06 13:04:00   \n",
       "5662748  0D1170BA18FD33D1   classic_bike 2022-11-06 09:41:00   \n",
       "5662749  09B20DC75B5EA1E0  electric_bike 2022-11-26 11:59:00   \n",
       "\n",
       "                   ended_at member_casual  start_weekday  ride_length  \n",
       "0       2021-12-07 15:13:00        member            3.0          7.0  \n",
       "1       2021-12-11 04:10:00        casual            7.0         27.0  \n",
       "2       2021-12-15 23:23:00        member            4.0         13.0  \n",
       "3       2021-12-26 16:30:00        member            1.0         14.0  \n",
       "4       2021-12-30 11:51:00        member            5.0         20.0  \n",
       "...                     ...           ...            ...          ...  \n",
       "5662745 2022-11-25 11:31:00        member            6.0         12.0  \n",
       "5662746 2022-11-22 17:31:00        casual            3.0         34.0  \n",
       "5662747 2022-11-06 13:13:00        casual            1.0          9.0  \n",
       "5662748 2022-11-06 15:17:00        casual            1.0        336.0  \n",
       "5662749 2022-11-26 12:31:00        casual            7.0         32.0  \n",
       "\n",
       "[5662750 rows x 7 columns]"
      ]
     },
     "execution_count": 13,
     "metadata": {},
     "output_type": "execute_result"
    }
   ],
   "source": [
    "tripdata_21_22"
   ]
  },
  {
   "cell_type": "code",
   "execution_count": 14,
   "id": "0e1a8193",
   "metadata": {
    "execution": {
     "iopub.execute_input": "2023-02-02T11:10:36.912549Z",
     "iopub.status.busy": "2023-02-02T11:10:36.911659Z",
     "iopub.status.idle": "2023-02-02T11:10:37.505987Z",
     "shell.execute_reply": "2023-02-02T11:10:37.504968Z"
    },
    "papermill": {
     "duration": 0.611464,
     "end_time": "2023-02-02T11:10:37.507878",
     "exception": false,
     "start_time": "2023-02-02T11:10:36.896414",
     "status": "completed"
    },
    "tags": []
   },
   "outputs": [
    {
     "data": {
      "text/plain": [
       "ride_id          0\n",
       "rideable_type    0\n",
       "started_at       0\n",
       "ended_at         0\n",
       "member_casual    0\n",
       "start_weekday    0\n",
       "ride_length      0\n",
       "dtype: int64"
      ]
     },
     "execution_count": 14,
     "metadata": {},
     "output_type": "execute_result"
    }
   ],
   "source": [
    "# Checking for missing values\n",
    "\n",
    "tripdata_21_22.isna().sum()"
   ]
  },
  {
   "cell_type": "markdown",
   "id": "11ef99ba",
   "metadata": {
    "papermill": {
     "duration": 0.01372,
     "end_time": "2023-02-02T11:10:37.535702",
     "exception": false,
     "start_time": "2023-02-02T11:10:37.521982",
     "status": "completed"
    },
    "tags": []
   },
   "source": [
    "# 5. Analyze And Share"
   ]
  },
  {
   "cell_type": "code",
   "execution_count": 15,
   "id": "037e3558",
   "metadata": {
    "execution": {
     "iopub.execute_input": "2023-02-02T11:10:37.566282Z",
     "iopub.status.busy": "2023-02-02T11:10:37.565422Z",
     "iopub.status.idle": "2023-02-02T11:10:37.728625Z",
     "shell.execute_reply": "2023-02-02T11:10:37.727975Z"
    },
    "papermill": {
     "duration": 0.180777,
     "end_time": "2023-02-02T11:10:37.730786",
     "exception": false,
     "start_time": "2023-02-02T11:10:37.550009",
     "status": "completed"
    },
    "tags": []
   },
   "outputs": [],
   "source": [
    "# Extracting the year from start_date and creating a column\n",
    "\n",
    "tripdata_21_22['year'] = tripdata_21_22['started_at'].dt.year"
   ]
  },
  {
   "cell_type": "code",
   "execution_count": 16,
   "id": "d35b39f1",
   "metadata": {
    "execution": {
     "iopub.execute_input": "2023-02-02T11:10:37.762561Z",
     "iopub.status.busy": "2023-02-02T11:10:37.761394Z",
     "iopub.status.idle": "2023-02-02T11:10:38.687638Z",
     "shell.execute_reply": "2023-02-02T11:10:38.686520Z"
    },
    "papermill": {
     "duration": 0.944938,
     "end_time": "2023-02-02T11:10:38.690215",
     "exception": false,
     "start_time": "2023-02-02T11:10:37.745277",
     "status": "completed"
    },
    "tags": []
   },
   "outputs": [],
   "source": [
    "# Extracting the month from start_date and creating a column\n",
    "\n",
    "tripdata_21_22['month'] = tripdata_21_22['started_at'].dt.month_name()"
   ]
  },
  {
   "cell_type": "code",
   "execution_count": 17,
   "id": "8bb342c6",
   "metadata": {
    "execution": {
     "iopub.execute_input": "2023-02-02T11:10:38.719620Z",
     "iopub.status.busy": "2023-02-02T11:10:38.719221Z",
     "iopub.status.idle": "2023-02-02T11:10:39.849973Z",
     "shell.execute_reply": "2023-02-02T11:10:39.849223Z"
    },
    "papermill": {
     "duration": 1.147854,
     "end_time": "2023-02-02T11:10:39.852167",
     "exception": false,
     "start_time": "2023-02-02T11:10:38.704313",
     "status": "completed"
    },
    "tags": []
   },
   "outputs": [],
   "source": [
    "# Extracting the day of a week from start_date and creating a column\n",
    "\n",
    "tripdata_21_22['day_of_week'] = tripdata_21_22['started_at'].dt.day_name()"
   ]
  },
  {
   "cell_type": "code",
   "execution_count": 18,
   "id": "f8d66fe3",
   "metadata": {
    "execution": {
     "iopub.execute_input": "2023-02-02T11:10:39.883105Z",
     "iopub.status.busy": "2023-02-02T11:10:39.882557Z",
     "iopub.status.idle": "2023-02-02T11:10:40.042809Z",
     "shell.execute_reply": "2023-02-02T11:10:40.042097Z"
    },
    "papermill": {
     "duration": 0.178267,
     "end_time": "2023-02-02T11:10:40.045119",
     "exception": false,
     "start_time": "2023-02-02T11:10:39.866852",
     "status": "completed"
    },
    "tags": []
   },
   "outputs": [],
   "source": [
    "# Extracting the hour from start_date and creating a column\n",
    "\n",
    "tripdata_21_22['hour'] = tripdata_21_22['started_at'].dt.hour"
   ]
  },
  {
   "cell_type": "code",
   "execution_count": 19,
   "id": "b4254d75",
   "metadata": {
    "execution": {
     "iopub.execute_input": "2023-02-02T11:10:40.075984Z",
     "iopub.status.busy": "2023-02-02T11:10:40.075290Z",
     "iopub.status.idle": "2023-02-02T11:10:40.331679Z",
     "shell.execute_reply": "2023-02-02T11:10:40.330721Z"
    },
    "papermill": {
     "duration": 0.27414,
     "end_time": "2023-02-02T11:10:40.333942",
     "exception": false,
     "start_time": "2023-02-02T11:10:40.059802",
     "status": "completed"
    },
    "tags": []
   },
   "outputs": [],
   "source": [
    "# Changing the datatype\n",
    "\n",
    "tripdata_21_22 = tripdata_21_22.astype({'year':'int16', 'hour':'int8'})"
   ]
  },
  {
   "cell_type": "code",
   "execution_count": 20,
   "id": "c9aa2046",
   "metadata": {
    "execution": {
     "iopub.execute_input": "2023-02-02T11:10:40.363704Z",
     "iopub.status.busy": "2023-02-02T11:10:40.363285Z",
     "iopub.status.idle": "2023-02-02T11:10:40.374277Z",
     "shell.execute_reply": "2023-02-02T11:10:40.373227Z"
    },
    "papermill": {
     "duration": 0.028033,
     "end_time": "2023-02-02T11:10:40.376160",
     "exception": false,
     "start_time": "2023-02-02T11:10:40.348127",
     "status": "completed"
    },
    "tags": []
   },
   "outputs": [
    {
     "name": "stdout",
     "output_type": "stream",
     "text": [
      "<class 'pandas.core.frame.DataFrame'>\n",
      "RangeIndex: 5662750 entries, 0 to 5662749\n",
      "Data columns (total 11 columns):\n",
      " #   Column         Dtype         \n",
      "---  ------         -----         \n",
      " 0   ride_id        object        \n",
      " 1   rideable_type  object        \n",
      " 2   started_at     datetime64[ns]\n",
      " 3   ended_at       datetime64[ns]\n",
      " 4   member_casual  object        \n",
      " 5   start_weekday  float64       \n",
      " 6   ride_length    float64       \n",
      " 7   year           int16         \n",
      " 8   month          object        \n",
      " 9   day_of_week    object        \n",
      " 10  hour           int8          \n",
      "dtypes: datetime64[ns](2), float64(2), int16(1), int8(1), object(5)\n",
      "memory usage: 405.0+ MB\n"
     ]
    }
   ],
   "source": [
    "tripdata_21_22.info()"
   ]
  },
  {
   "cell_type": "code",
   "execution_count": 21,
   "id": "b81cf832",
   "metadata": {
    "execution": {
     "iopub.execute_input": "2023-02-02T11:10:40.406154Z",
     "iopub.status.busy": "2023-02-02T11:10:40.405780Z",
     "iopub.status.idle": "2023-02-02T11:10:40.420730Z",
     "shell.execute_reply": "2023-02-02T11:10:40.419956Z"
    },
    "papermill": {
     "duration": 0.03195,
     "end_time": "2023-02-02T11:10:40.422386",
     "exception": false,
     "start_time": "2023-02-02T11:10:40.390436",
     "status": "completed"
    },
    "tags": []
   },
   "outputs": [
    {
     "data": {
      "text/html": [
       "<div>\n",
       "<style scoped>\n",
       "    .dataframe tbody tr th:only-of-type {\n",
       "        vertical-align: middle;\n",
       "    }\n",
       "\n",
       "    .dataframe tbody tr th {\n",
       "        vertical-align: top;\n",
       "    }\n",
       "\n",
       "    .dataframe thead th {\n",
       "        text-align: right;\n",
       "    }\n",
       "</style>\n",
       "<table border=\"1\" class=\"dataframe\">\n",
       "  <thead>\n",
       "    <tr style=\"text-align: right;\">\n",
       "      <th></th>\n",
       "      <th>ride_id</th>\n",
       "      <th>rideable_type</th>\n",
       "      <th>started_at</th>\n",
       "      <th>ended_at</th>\n",
       "      <th>member_casual</th>\n",
       "      <th>start_weekday</th>\n",
       "      <th>ride_length</th>\n",
       "      <th>year</th>\n",
       "      <th>month</th>\n",
       "      <th>day_of_week</th>\n",
       "      <th>hour</th>\n",
       "    </tr>\n",
       "  </thead>\n",
       "  <tbody>\n",
       "    <tr>\n",
       "      <th>0</th>\n",
       "      <td>46F8167220E4431F</td>\n",
       "      <td>electric_bike</td>\n",
       "      <td>2021-12-07 15:06:00</td>\n",
       "      <td>2021-12-07 15:13:00</td>\n",
       "      <td>member</td>\n",
       "      <td>3.0</td>\n",
       "      <td>7.0</td>\n",
       "      <td>2021</td>\n",
       "      <td>December</td>\n",
       "      <td>Tuesday</td>\n",
       "      <td>15</td>\n",
       "    </tr>\n",
       "    <tr>\n",
       "      <th>1</th>\n",
       "      <td>73A77762838B32FD</td>\n",
       "      <td>electric_bike</td>\n",
       "      <td>2021-12-11 03:43:00</td>\n",
       "      <td>2021-12-11 04:10:00</td>\n",
       "      <td>casual</td>\n",
       "      <td>7.0</td>\n",
       "      <td>27.0</td>\n",
       "      <td>2021</td>\n",
       "      <td>December</td>\n",
       "      <td>Saturday</td>\n",
       "      <td>3</td>\n",
       "    </tr>\n",
       "    <tr>\n",
       "      <th>2</th>\n",
       "      <td>4CF42452054F59C5</td>\n",
       "      <td>electric_bike</td>\n",
       "      <td>2021-12-15 23:10:00</td>\n",
       "      <td>2021-12-15 23:23:00</td>\n",
       "      <td>member</td>\n",
       "      <td>4.0</td>\n",
       "      <td>13.0</td>\n",
       "      <td>2021</td>\n",
       "      <td>December</td>\n",
       "      <td>Wednesday</td>\n",
       "      <td>23</td>\n",
       "    </tr>\n",
       "    <tr>\n",
       "      <th>3</th>\n",
       "      <td>3278BA87BF698339</td>\n",
       "      <td>classic_bike</td>\n",
       "      <td>2021-12-26 16:16:00</td>\n",
       "      <td>2021-12-26 16:30:00</td>\n",
       "      <td>member</td>\n",
       "      <td>1.0</td>\n",
       "      <td>14.0</td>\n",
       "      <td>2021</td>\n",
       "      <td>December</td>\n",
       "      <td>Sunday</td>\n",
       "      <td>16</td>\n",
       "    </tr>\n",
       "    <tr>\n",
       "      <th>4</th>\n",
       "      <td>6FF54232576A3B73</td>\n",
       "      <td>electric_bike</td>\n",
       "      <td>2021-12-30 11:31:00</td>\n",
       "      <td>2021-12-30 11:51:00</td>\n",
       "      <td>member</td>\n",
       "      <td>5.0</td>\n",
       "      <td>20.0</td>\n",
       "      <td>2021</td>\n",
       "      <td>December</td>\n",
       "      <td>Thursday</td>\n",
       "      <td>11</td>\n",
       "    </tr>\n",
       "  </tbody>\n",
       "</table>\n",
       "</div>"
      ],
      "text/plain": [
       "            ride_id  rideable_type          started_at            ended_at  \\\n",
       "0  46F8167220E4431F  electric_bike 2021-12-07 15:06:00 2021-12-07 15:13:00   \n",
       "1  73A77762838B32FD  electric_bike 2021-12-11 03:43:00 2021-12-11 04:10:00   \n",
       "2  4CF42452054F59C5  electric_bike 2021-12-15 23:10:00 2021-12-15 23:23:00   \n",
       "3  3278BA87BF698339   classic_bike 2021-12-26 16:16:00 2021-12-26 16:30:00   \n",
       "4  6FF54232576A3B73  electric_bike 2021-12-30 11:31:00 2021-12-30 11:51:00   \n",
       "\n",
       "  member_casual  start_weekday  ride_length  year     month day_of_week  hour  \n",
       "0        member            3.0          7.0  2021  December     Tuesday    15  \n",
       "1        casual            7.0         27.0  2021  December    Saturday     3  \n",
       "2        member            4.0         13.0  2021  December   Wednesday    23  \n",
       "3        member            1.0         14.0  2021  December      Sunday    16  \n",
       "4        member            5.0         20.0  2021  December    Thursday    11  "
      ]
     },
     "execution_count": 21,
     "metadata": {},
     "output_type": "execute_result"
    }
   ],
   "source": [
    "tripdata_21_22.head()"
   ]
  },
  {
   "cell_type": "markdown",
   "id": "73398212",
   "metadata": {
    "papermill": {
     "duration": 0.013909,
     "end_time": "2023-02-02T11:10:40.450743",
     "exception": false,
     "start_time": "2023-02-02T11:10:40.436834",
     "status": "completed"
    },
    "tags": []
   },
   "source": [
    "# 5.1  Analyzing Rideable Type Usage Between Casual riders and Members."
   ]
  },
  {
   "cell_type": "code",
   "execution_count": 22,
   "id": "85891aff",
   "metadata": {
    "execution": {
     "iopub.execute_input": "2023-02-02T11:10:40.480940Z",
     "iopub.status.busy": "2023-02-02T11:10:40.480575Z",
     "iopub.status.idle": "2023-02-02T11:10:40.485279Z",
     "shell.execute_reply": "2023-02-02T11:10:40.483861Z"
    },
    "papermill": {
     "duration": 0.022472,
     "end_time": "2023-02-02T11:10:40.487544",
     "exception": false,
     "start_time": "2023-02-02T11:10:40.465072",
     "status": "completed"
    },
    "tags": []
   },
   "outputs": [],
   "source": [
    "#Setting the style for the chart\n",
    "\n",
    "sns.set_style(\"darkgrid\")"
   ]
  },
  {
   "cell_type": "code",
   "execution_count": 23,
   "id": "54f2f382",
   "metadata": {
    "execution": {
     "iopub.execute_input": "2023-02-02T11:10:40.517616Z",
     "iopub.status.busy": "2023-02-02T11:10:40.516750Z",
     "iopub.status.idle": "2023-02-02T11:10:43.777017Z",
     "shell.execute_reply": "2023-02-02T11:10:43.776046Z"
    },
    "papermill": {
     "duration": 3.277499,
     "end_time": "2023-02-02T11:10:43.779319",
     "exception": false,
     "start_time": "2023-02-02T11:10:40.501820",
     "status": "completed"
    },
    "tags": []
   },
   "outputs": [
    {
     "data": {
      "text/html": [
       "<div>\n",
       "<style scoped>\n",
       "    .dataframe tbody tr th:only-of-type {\n",
       "        vertical-align: middle;\n",
       "    }\n",
       "\n",
       "    .dataframe tbody tr th {\n",
       "        vertical-align: top;\n",
       "    }\n",
       "\n",
       "    .dataframe thead tr th {\n",
       "        text-align: left;\n",
       "    }\n",
       "\n",
       "    .dataframe thead tr:last-of-type th {\n",
       "        text-align: right;\n",
       "    }\n",
       "</style>\n",
       "<table border=\"1\" class=\"dataframe\">\n",
       "  <thead>\n",
       "    <tr>\n",
       "      <th></th>\n",
       "      <th></th>\n",
       "      <th>count</th>\n",
       "    </tr>\n",
       "    <tr>\n",
       "      <th></th>\n",
       "      <th></th>\n",
       "      <th>ride_id</th>\n",
       "    </tr>\n",
       "    <tr>\n",
       "      <th>rideable_type</th>\n",
       "      <th>member_casual</th>\n",
       "      <th></th>\n",
       "    </tr>\n",
       "  </thead>\n",
       "  <tbody>\n",
       "    <tr>\n",
       "      <th rowspan=\"2\" valign=\"top\">classic_bike</th>\n",
       "      <th>casual</th>\n",
       "      <td>891390</td>\n",
       "    </tr>\n",
       "    <tr>\n",
       "      <th>member</th>\n",
       "      <td>1713862</td>\n",
       "    </tr>\n",
       "    <tr>\n",
       "      <th>docked_bike</th>\n",
       "      <th>casual</th>\n",
       "      <td>179553</td>\n",
       "    </tr>\n",
       "    <tr>\n",
       "      <th rowspan=\"2\" valign=\"top\">electric_bike</th>\n",
       "      <th>casual</th>\n",
       "      <td>1248129</td>\n",
       "    </tr>\n",
       "    <tr>\n",
       "      <th>member</th>\n",
       "      <td>1629816</td>\n",
       "    </tr>\n",
       "    <tr>\n",
       "      <th>Total_count</th>\n",
       "      <th></th>\n",
       "      <td>5662750</td>\n",
       "    </tr>\n",
       "  </tbody>\n",
       "</table>\n",
       "</div>"
      ],
      "text/plain": [
       "                               count\n",
       "                             ride_id\n",
       "rideable_type member_casual         \n",
       "classic_bike  casual          891390\n",
       "              member         1713862\n",
       "docked_bike   casual          179553\n",
       "electric_bike casual         1248129\n",
       "              member         1629816\n",
       "Total_count                  5662750"
      ]
     },
     "execution_count": 23,
     "metadata": {},
     "output_type": "execute_result"
    }
   ],
   "source": [
    "tripdata_21_22.pivot_table(\n",
    "    index = [\"rideable_type\",\"member_casual\"],\n",
    "    values = \"ride_id\",\n",
    "    aggfunc = [\"count\"],\n",
    "    margins = True,\n",
    "    margins_name = \"Total_count\"\n",
    ")"
   ]
  },
  {
   "cell_type": "code",
   "execution_count": 24,
   "id": "6bbd8e76",
   "metadata": {
    "execution": {
     "iopub.execute_input": "2023-02-02T11:10:43.810397Z",
     "iopub.status.busy": "2023-02-02T11:10:43.810029Z",
     "iopub.status.idle": "2023-02-02T11:10:46.078672Z",
     "shell.execute_reply": "2023-02-02T11:10:46.077403Z"
    },
    "papermill": {
     "duration": 2.286851,
     "end_time": "2023-02-02T11:10:46.081049",
     "exception": false,
     "start_time": "2023-02-02T11:10:43.794198",
     "status": "completed"
    },
    "tags": []
   },
   "outputs": [
    {
     "data": {
      "image/png": "[encoded data removed]",
      "text/plain": [
       "<Figure size 432x288 with 1 Axes>"
      ]
     },
     "metadata": {},
     "output_type": "display_data"
    }
   ],
   "source": [
    "plot_1 = tripdata_21_22.groupby([\"member_casual\",\"rideable_type\"],as_index = False).count()\n",
    "\n",
    "sns.barplot(data=plot_1, \n",
    "            x='ride_id',\n",
    "            y='rideable_type',\n",
    "            hue=\"member_casual\",\n",
    "            palette='magma',\n",
    "            saturation = .3)\n",
    "plt.xlabel(\"Number Of Rides\",size = 10)\n",
    "plt.ylabel(\"Rideable Type\",size = 10)\n",
    "plt.legend(bbox_to_anchor=(1.05, 1.0), loc='upper left', title = 'Member / Casual')\n",
    "plt.show()"
   ]
  },
  {
   "cell_type": "markdown",
   "id": "8b4bd7e1",
   "metadata": {
    "papermill": {
     "duration": 0.014353,
     "end_time": "2023-02-02T11:10:46.110476",
     "exception": false,
     "start_time": "2023-02-02T11:10:46.096123",
     "status": "completed"
    },
    "tags": []
   },
   "source": [
    "* **Most** of the **members and casual riders** use **classic bike and electric bike**.\n",
    "* Only **few casual riders use docked bike**"
   ]
  },
  {
   "cell_type": "markdown",
   "id": "ca7bf3c6",
   "metadata": {
    "papermill": {
     "duration": 0.014247,
     "end_time": "2023-02-02T11:10:46.139262",
     "exception": false,
     "start_time": "2023-02-02T11:10:46.125015",
     "status": "completed"
    },
    "tags": []
   },
   "source": [
    "# 5.2  Analysing The Number Of Rides Between Casual Riders And Members"
   ]
  },
  {
   "cell_type": "markdown",
   "id": "c0bcfc56",
   "metadata": {
    "papermill": {
     "duration": 0.014283,
     "end_time": "2023-02-02T11:10:46.167867",
     "exception": false,
     "start_time": "2023-02-02T11:10:46.153584",
     "status": "completed"
    },
    "tags": []
   },
   "source": [
    "# 5.2.1 Total Number Of Rides in a year"
   ]
  },
  {
   "cell_type": "code",
   "execution_count": 25,
   "id": "70dc8036",
   "metadata": {
    "execution": {
     "iopub.execute_input": "2023-02-02T11:10:46.199455Z",
     "iopub.status.busy": "2023-02-02T11:10:46.198713Z",
     "iopub.status.idle": "2023-02-02T11:10:47.947059Z",
     "shell.execute_reply": "2023-02-02T11:10:47.945797Z"
    },
    "papermill": {
     "duration": 1.766998,
     "end_time": "2023-02-02T11:10:47.949532",
     "exception": false,
     "start_time": "2023-02-02T11:10:46.182534",
     "status": "completed"
    },
    "tags": []
   },
   "outputs": [
    {
     "data": {
      "text/html": [
       "<div>\n",
       "<style scoped>\n",
       "    .dataframe tbody tr th:only-of-type {\n",
       "        vertical-align: middle;\n",
       "    }\n",
       "\n",
       "    .dataframe tbody tr th {\n",
       "        vertical-align: top;\n",
       "    }\n",
       "\n",
       "    .dataframe thead tr th {\n",
       "        text-align: left;\n",
       "    }\n",
       "\n",
       "    .dataframe thead tr:last-of-type th {\n",
       "        text-align: right;\n",
       "    }\n",
       "</style>\n",
       "<table border=\"1\" class=\"dataframe\">\n",
       "  <thead>\n",
       "    <tr>\n",
       "      <th></th>\n",
       "      <th>count</th>\n",
       "    </tr>\n",
       "    <tr>\n",
       "      <th></th>\n",
       "      <th>ride_id</th>\n",
       "    </tr>\n",
       "    <tr>\n",
       "      <th>member_casual</th>\n",
       "      <th></th>\n",
       "    </tr>\n",
       "  </thead>\n",
       "  <tbody>\n",
       "    <tr>\n",
       "      <th>casual</th>\n",
       "      <td>2319072</td>\n",
       "    </tr>\n",
       "    <tr>\n",
       "      <th>member</th>\n",
       "      <td>3343678</td>\n",
       "    </tr>\n",
       "    <tr>\n",
       "      <th>total_count</th>\n",
       "      <td>5662750</td>\n",
       "    </tr>\n",
       "  </tbody>\n",
       "</table>\n",
       "</div>"
      ],
      "text/plain": [
       "                 count\n",
       "               ride_id\n",
       "member_casual         \n",
       "casual         2319072\n",
       "member         3343678\n",
       "total_count    5662750"
      ]
     },
     "execution_count": 25,
     "metadata": {},
     "output_type": "execute_result"
    }
   ],
   "source": [
    "pd.pivot_table(tripdata_21_22,\n",
    "               index = 'member_casual',\n",
    "               values = 'ride_id',\n",
    "               aggfunc = ['count'],\n",
    "               margins = True,\n",
    "               margins_name = 'total_count'\n",
    ")"
   ]
  },
  {
   "cell_type": "code",
   "execution_count": 26,
   "id": "297991bc",
   "metadata": {
    "execution": {
     "iopub.execute_input": "2023-02-02T11:10:47.981252Z",
     "iopub.status.busy": "2023-02-02T11:10:47.980604Z",
     "iopub.status.idle": "2023-02-02T11:10:49.958616Z",
     "shell.execute_reply": "2023-02-02T11:10:49.957885Z"
    },
    "papermill": {
     "duration": 1.996516,
     "end_time": "2023-02-02T11:10:49.960970",
     "exception": false,
     "start_time": "2023-02-02T11:10:47.964454",
     "status": "completed"
    },
    "tags": []
   },
   "outputs": [
    {
     "data": {
      "image/png": "[encoded data removed]",
      "text/plain": [
       "<Figure size 432x288 with 1 Axes>"
      ]
     },
     "metadata": {},
     "output_type": "display_data"
    }
   ],
   "source": [
    "plot_2 = tripdata_21_22.groupby(['member_casual'], as_index=False).count()\n",
    "\n",
    "sns.barplot(data=plot_2, \n",
    "            x='ride_id',\n",
    "            y='member_casual',\n",
    "            hue=\"member_casual\",\n",
    "            palette='magma',\n",
    "            saturation = .3,\n",
    "            orient='h')\n",
    "plt.xlabel(\"Number Of Rides\",size = 10)\n",
    "plt.ylabel(\"Member / Casual\",size = 10)\n",
    "plt.legend(bbox_to_anchor=(1.05, 1.0), loc='upper left', title = 'Member / Casual')\n",
    "plt.show()"
   ]
  },
  {
   "cell_type": "markdown",
   "id": "6b94981c",
   "metadata": {
    "papermill": {
     "duration": 0.014862,
     "end_time": "2023-02-02T11:10:49.991326",
     "exception": false,
     "start_time": "2023-02-02T11:10:49.976464",
     "status": "completed"
    },
    "tags": []
   },
   "source": [
    "# 5.2.2.  Total Number Of Rides In A Month"
   ]
  },
  {
   "cell_type": "code",
   "execution_count": 27,
   "id": "5ef7a6ee",
   "metadata": {
    "execution": {
     "iopub.execute_input": "2023-02-02T11:10:50.023794Z",
     "iopub.status.busy": "2023-02-02T11:10:50.022867Z",
     "iopub.status.idle": "2023-02-02T11:10:52.770527Z",
     "shell.execute_reply": "2023-02-02T11:10:52.769797Z"
    },
    "papermill": {
     "duration": 2.765605,
     "end_time": "2023-02-02T11:10:52.772171",
     "exception": false,
     "start_time": "2023-02-02T11:10:50.006566",
     "status": "completed"
    },
    "tags": []
   },
   "outputs": [
    {
     "data": {
      "text/html": [
       "<div>\n",
       "<style scoped>\n",
       "    .dataframe tbody tr th:only-of-type {\n",
       "        vertical-align: middle;\n",
       "    }\n",
       "\n",
       "    .dataframe tbody tr th {\n",
       "        vertical-align: top;\n",
       "    }\n",
       "\n",
       "    .dataframe thead tr th {\n",
       "        text-align: left;\n",
       "    }\n",
       "\n",
       "    .dataframe thead tr:last-of-type th {\n",
       "        text-align: right;\n",
       "    }\n",
       "</style>\n",
       "<table border=\"1\" class=\"dataframe\">\n",
       "  <thead>\n",
       "    <tr>\n",
       "      <th></th>\n",
       "      <th></th>\n",
       "      <th></th>\n",
       "      <th>count</th>\n",
       "    </tr>\n",
       "    <tr>\n",
       "      <th></th>\n",
       "      <th></th>\n",
       "      <th></th>\n",
       "      <th>ride_id</th>\n",
       "    </tr>\n",
       "    <tr>\n",
       "      <th>year</th>\n",
       "      <th>month</th>\n",
       "      <th>member_casual</th>\n",
       "      <th></th>\n",
       "    </tr>\n",
       "  </thead>\n",
       "  <tbody>\n",
       "    <tr>\n",
       "      <th rowspan=\"2\" valign=\"top\">2021</th>\n",
       "      <th rowspan=\"2\" valign=\"top\">December</th>\n",
       "      <th>casual</th>\n",
       "      <td>69135</td>\n",
       "    </tr>\n",
       "    <tr>\n",
       "      <th>member</th>\n",
       "      <td>176040</td>\n",
       "    </tr>\n",
       "    <tr>\n",
       "      <th rowspan=\"22\" valign=\"top\">2022</th>\n",
       "      <th rowspan=\"2\" valign=\"top\">April</th>\n",
       "      <th>casual</th>\n",
       "      <td>124949</td>\n",
       "    </tr>\n",
       "    <tr>\n",
       "      <th>member</th>\n",
       "      <td>241700</td>\n",
       "    </tr>\n",
       "    <tr>\n",
       "      <th rowspan=\"2\" valign=\"top\">August</th>\n",
       "      <th>casual</th>\n",
       "      <td>354444</td>\n",
       "    </tr>\n",
       "    <tr>\n",
       "      <th>member</th>\n",
       "      <td>421318</td>\n",
       "    </tr>\n",
       "    <tr>\n",
       "      <th rowspan=\"2\" valign=\"top\">February</th>\n",
       "      <th>casual</th>\n",
       "      <td>21110</td>\n",
       "    </tr>\n",
       "    <tr>\n",
       "      <th>member</th>\n",
       "      <td>92845</td>\n",
       "    </tr>\n",
       "    <tr>\n",
       "      <th rowspan=\"2\" valign=\"top\">January</th>\n",
       "      <th>casual</th>\n",
       "      <td>18259</td>\n",
       "    </tr>\n",
       "    <tr>\n",
       "      <th>member</th>\n",
       "      <td>84361</td>\n",
       "    </tr>\n",
       "    <tr>\n",
       "      <th rowspan=\"2\" valign=\"top\">July</th>\n",
       "      <th>casual</th>\n",
       "      <td>401256</td>\n",
       "    </tr>\n",
       "    <tr>\n",
       "      <th>member</th>\n",
       "      <td>411964</td>\n",
       "    </tr>\n",
       "    <tr>\n",
       "      <th rowspan=\"2\" valign=\"top\">June</th>\n",
       "      <th>casual</th>\n",
       "      <td>364917</td>\n",
       "    </tr>\n",
       "    <tr>\n",
       "      <th>member</th>\n",
       "      <td>395188</td>\n",
       "    </tr>\n",
       "    <tr>\n",
       "      <th rowspan=\"2\" valign=\"top\">March</th>\n",
       "      <th>casual</th>\n",
       "      <td>88938</td>\n",
       "    </tr>\n",
       "    <tr>\n",
       "      <th>member</th>\n",
       "      <td>191997</td>\n",
       "    </tr>\n",
       "    <tr>\n",
       "      <th rowspan=\"2\" valign=\"top\">May</th>\n",
       "      <th>casual</th>\n",
       "      <td>277229</td>\n",
       "    </tr>\n",
       "    <tr>\n",
       "      <th>member</th>\n",
       "      <td>350155</td>\n",
       "    </tr>\n",
       "    <tr>\n",
       "      <th rowspan=\"2\" valign=\"top\">November</th>\n",
       "      <th>casual</th>\n",
       "      <td>99399</td>\n",
       "    </tr>\n",
       "    <tr>\n",
       "      <th>member</th>\n",
       "      <td>233819</td>\n",
       "    </tr>\n",
       "    <tr>\n",
       "      <th rowspan=\"2\" valign=\"top\">October</th>\n",
       "      <th>casual</th>\n",
       "      <td>206254</td>\n",
       "    </tr>\n",
       "    <tr>\n",
       "      <th>member</th>\n",
       "      <td>344838</td>\n",
       "    </tr>\n",
       "    <tr>\n",
       "      <th rowspan=\"2\" valign=\"top\">September</th>\n",
       "      <th>casual</th>\n",
       "      <td>293182</td>\n",
       "    </tr>\n",
       "    <tr>\n",
       "      <th>member</th>\n",
       "      <td>399453</td>\n",
       "    </tr>\n",
       "    <tr>\n",
       "      <th>total_count</th>\n",
       "      <th></th>\n",
       "      <th></th>\n",
       "      <td>5662750</td>\n",
       "    </tr>\n",
       "  </tbody>\n",
       "</table>\n",
       "</div>"
      ],
      "text/plain": [
       "                                       count\n",
       "                                     ride_id\n",
       "year        month     member_casual         \n",
       "2021        December  casual           69135\n",
       "                      member          176040\n",
       "2022        April     casual          124949\n",
       "                      member          241700\n",
       "            August    casual          354444\n",
       "                      member          421318\n",
       "            February  casual           21110\n",
       "                      member           92845\n",
       "            January   casual           18259\n",
       "                      member           84361\n",
       "            July      casual          401256\n",
       "                      member          411964\n",
       "            June      casual          364917\n",
       "                      member          395188\n",
       "            March     casual           88938\n",
       "                      member          191997\n",
       "            May       casual          277229\n",
       "                      member          350155\n",
       "            November  casual           99399\n",
       "                      member          233819\n",
       "            October   casual          206254\n",
       "                      member          344838\n",
       "            September casual          293182\n",
       "                      member          399453\n",
       "total_count                          5662750"
      ]
     },
     "execution_count": 27,
     "metadata": {},
     "output_type": "execute_result"
    }
   ],
   "source": [
    "pd.pivot_table(tripdata_21_22,\n",
    "               index = ['year','month','member_casual'],\n",
    "               values = 'ride_id',\n",
    "               aggfunc = ['count'],\n",
    "               margins = True,\n",
    "               margins_name = 'total_count'\n",
    ")"
   ]
  },
  {
   "cell_type": "code",
   "execution_count": 28,
   "id": "066b7309",
   "metadata": {
    "execution": {
     "iopub.execute_input": "2023-02-02T11:10:52.804429Z",
     "iopub.status.busy": "2023-02-02T11:10:52.803574Z",
     "iopub.status.idle": "2023-02-02T11:10:55.028263Z",
     "shell.execute_reply": "2023-02-02T11:10:55.027387Z"
    },
    "papermill": {
     "duration": 2.242906,
     "end_time": "2023-02-02T11:10:55.030289",
     "exception": false,
     "start_time": "2023-02-02T11:10:52.787383",
     "status": "completed"
    },
    "tags": []
   },
   "outputs": [
    {
     "data": {
      "image/png": "[encoded data removed]",
      "text/plain": [
       "<Figure size 432x288 with 1 Axes>"
      ]
     },
     "metadata": {},
     "output_type": "display_data"
    }
   ],
   "source": [
    "plot_3 = tripdata_21_22.groupby(['year','month','member_casual'],as_index = False).count()\n",
    "\n",
    "sns.lineplot(data=plot_3, \n",
    "            x='month',\n",
    "            y='ride_id',\n",
    "            hue=\"member_casual\",\n",
    "            palette='magma',\n",
    "            style = \"member_casual\",\n",
    "            markers=True\n",
    "           )\n",
    "plt.xlabel(\"Months (dec 2021 - nov 2022)\",size = 10)\n",
    "plt.ylabel(\"Number Of Rides\",size = 10)\n",
    "plt.xticks(rotation=90)\n",
    "plt.legend(bbox_to_anchor=(1.05, 1.0), loc='upper left', title = 'Member / Casual')\n",
    "plt.show()"
   ]
  },
  {
   "cell_type": "markdown",
   "id": "c0173554",
   "metadata": {
    "papermill": {
     "duration": 0.016738,
     "end_time": "2023-02-02T11:10:55.063213",
     "exception": false,
     "start_time": "2023-02-02T11:10:55.046475",
     "status": "completed"
    },
    "tags": []
   },
   "source": [
    "* This shows that total number of rides **fall during winter season and rise during summer season**.\n",
    "* Same trend is observed for both casual riders and members.\n",
    "* **Maximum riders** are using bikes in **summer**."
   ]
  },
  {
   "cell_type": "markdown",
   "id": "73d43faa",
   "metadata": {
    "papermill": {
     "duration": 0.016146,
     "end_time": "2023-02-02T11:10:55.095842",
     "exception": false,
     "start_time": "2023-02-02T11:10:55.079696",
     "status": "completed"
    },
    "tags": []
   },
   "source": [
    "# 5.2.3.  Total Number Of Rides Each Weekday"
   ]
  },
  {
   "cell_type": "code",
   "execution_count": 29,
   "id": "871a2127",
   "metadata": {
    "execution": {
     "iopub.execute_input": "2023-02-02T11:10:55.130648Z",
     "iopub.status.busy": "2023-02-02T11:10:55.130200Z",
     "iopub.status.idle": "2023-02-02T11:10:57.793209Z",
     "shell.execute_reply": "2023-02-02T11:10:57.792010Z"
    },
    "papermill": {
     "duration": 2.68288,
     "end_time": "2023-02-02T11:10:57.795075",
     "exception": false,
     "start_time": "2023-02-02T11:10:55.112195",
     "status": "completed"
    },
    "tags": []
   },
   "outputs": [
    {
     "data": {
      "text/html": [
       "<div>\n",
       "<style scoped>\n",
       "    .dataframe tbody tr th:only-of-type {\n",
       "        vertical-align: middle;\n",
       "    }\n",
       "\n",
       "    .dataframe tbody tr th {\n",
       "        vertical-align: top;\n",
       "    }\n",
       "\n",
       "    .dataframe thead tr th {\n",
       "        text-align: left;\n",
       "    }\n",
       "\n",
       "    .dataframe thead tr:last-of-type th {\n",
       "        text-align: right;\n",
       "    }\n",
       "</style>\n",
       "<table border=\"1\" class=\"dataframe\">\n",
       "  <thead>\n",
       "    <tr>\n",
       "      <th></th>\n",
       "      <th></th>\n",
       "      <th>count</th>\n",
       "    </tr>\n",
       "    <tr>\n",
       "      <th></th>\n",
       "      <th></th>\n",
       "      <th>ride_id</th>\n",
       "    </tr>\n",
       "    <tr>\n",
       "      <th>day_of_week</th>\n",
       "      <th>member_casual</th>\n",
       "      <th></th>\n",
       "    </tr>\n",
       "  </thead>\n",
       "  <tbody>\n",
       "    <tr>\n",
       "      <th rowspan=\"2\" valign=\"top\">Friday</th>\n",
       "      <th>casual</th>\n",
       "      <td>336476</td>\n",
       "    </tr>\n",
       "    <tr>\n",
       "      <th>member</th>\n",
       "      <td>470895</td>\n",
       "    </tr>\n",
       "    <tr>\n",
       "      <th rowspan=\"2\" valign=\"top\">Monday</th>\n",
       "      <th>casual</th>\n",
       "      <td>277223</td>\n",
       "    </tr>\n",
       "    <tr>\n",
       "      <th>member</th>\n",
       "      <td>471093</td>\n",
       "    </tr>\n",
       "    <tr>\n",
       "      <th rowspan=\"2\" valign=\"top\">Saturday</th>\n",
       "      <th>casual</th>\n",
       "      <td>470881</td>\n",
       "    </tr>\n",
       "    <tr>\n",
       "      <th>member</th>\n",
       "      <td>439383</td>\n",
       "    </tr>\n",
       "    <tr>\n",
       "      <th rowspan=\"2\" valign=\"top\">Sunday</th>\n",
       "      <th>casual</th>\n",
       "      <td>387426</td>\n",
       "    </tr>\n",
       "    <tr>\n",
       "      <th>member</th>\n",
       "      <td>385223</td>\n",
       "    </tr>\n",
       "    <tr>\n",
       "      <th rowspan=\"2\" valign=\"top\">Thursday</th>\n",
       "      <th>casual</th>\n",
       "      <td>310111</td>\n",
       "    </tr>\n",
       "    <tr>\n",
       "      <th>member</th>\n",
       "      <td>533659</td>\n",
       "    </tr>\n",
       "    <tr>\n",
       "      <th rowspan=\"2\" valign=\"top\">Tuesday</th>\n",
       "      <th>casual</th>\n",
       "      <td>260855</td>\n",
       "    </tr>\n",
       "    <tr>\n",
       "      <th>member</th>\n",
       "      <td>512409</td>\n",
       "    </tr>\n",
       "    <tr>\n",
       "      <th rowspan=\"2\" valign=\"top\">Wednesday</th>\n",
       "      <th>casual</th>\n",
       "      <td>276100</td>\n",
       "    </tr>\n",
       "    <tr>\n",
       "      <th>member</th>\n",
       "      <td>531016</td>\n",
       "    </tr>\n",
       "    <tr>\n",
       "      <th>total_count</th>\n",
       "      <th></th>\n",
       "      <td>5662750</td>\n",
       "    </tr>\n",
       "  </tbody>\n",
       "</table>\n",
       "</div>"
      ],
      "text/plain": [
       "                             count\n",
       "                           ride_id\n",
       "day_of_week member_casual         \n",
       "Friday      casual          336476\n",
       "            member          470895\n",
       "Monday      casual          277223\n",
       "            member          471093\n",
       "Saturday    casual          470881\n",
       "            member          439383\n",
       "Sunday      casual          387426\n",
       "            member          385223\n",
       "Thursday    casual          310111\n",
       "            member          533659\n",
       "Tuesday     casual          260855\n",
       "            member          512409\n",
       "Wednesday   casual          276100\n",
       "            member          531016\n",
       "total_count                5662750"
      ]
     },
     "execution_count": 29,
     "metadata": {},
     "output_type": "execute_result"
    }
   ],
   "source": [
    "pd.pivot_table(tripdata_21_22,\n",
    "               index = ['day_of_week','member_casual'],\n",
    "               values = 'ride_id',\n",
    "               aggfunc = ['count'],\n",
    "               margins = True,\n",
    "               margins_name = 'total_count'\n",
    ")"
   ]
  },
  {
   "cell_type": "code",
   "execution_count": 30,
   "id": "75dae5ec",
   "metadata": {
    "execution": {
     "iopub.execute_input": "2023-02-02T11:10:57.830294Z",
     "iopub.status.busy": "2023-02-02T11:10:57.829958Z",
     "iopub.status.idle": "2023-02-02T11:11:00.090288Z",
     "shell.execute_reply": "2023-02-02T11:11:00.089612Z"
    },
    "papermill": {
     "duration": 2.280362,
     "end_time": "2023-02-02T11:11:00.092098",
     "exception": false,
     "start_time": "2023-02-02T11:10:57.811736",
     "status": "completed"
    },
    "tags": []
   },
   "outputs": [
    {
     "data": {
      "image/png": "[encoded data removed]",
      "text/plain": [
       "<Figure size 432x288 with 1 Axes>"
      ]
     },
     "metadata": {},
     "output_type": "display_data"
    }
   ],
   "source": [
    "plot_4 = tripdata_21_22.groupby(['day_of_week','member_casual'],as_index = False).count()\n",
    "\n",
    "sns.lineplot(data=plot_4, \n",
    "            x='day_of_week',\n",
    "            y='ride_id',\n",
    "            hue=\"member_casual\",\n",
    "            palette='magma',\n",
    "            style = \"member_casual\",\n",
    "            markers=True\n",
    "           )\n",
    "plt.xlabel(\"weekdays\",size = 10)\n",
    "plt.ylabel(\"Number Of Rides\",size = 10)\n",
    "plt.xticks(rotation=75)\n",
    "plt.legend(bbox_to_anchor=(1.05, 1.0), loc='upper left', title = 'Member / Casual')\n",
    "plt.show()"
   ]
  },
  {
   "cell_type": "markdown",
   "id": "d3ea607a",
   "metadata": {
    "papermill": {
     "duration": 0.017156,
     "end_time": "2023-02-02T11:11:00.126694",
     "exception": false,
     "start_time": "2023-02-02T11:11:00.109538",
     "status": "completed"
    },
    "tags": []
   },
   "source": [
    "* This shows that **members** are using bike on **weekdays**.may be using for commuting.\n",
    "* Most **Casual riders** are using bike during **Weekends** (saturday and sunday).\n",
    "* **Casual riders** **overtake** members on **weekends**."
   ]
  },
  {
   "cell_type": "markdown",
   "id": "ce0105ff",
   "metadata": {
    "papermill": {
     "duration": 0.016714,
     "end_time": "2023-02-02T11:11:00.160565",
     "exception": false,
     "start_time": "2023-02-02T11:11:00.143851",
     "status": "completed"
    },
    "tags": []
   },
   "source": [
    "# 5.2.4.  Total Number Of Hides Per Hour"
   ]
  },
  {
   "cell_type": "code",
   "execution_count": 31,
   "id": "6acc2907",
   "metadata": {
    "execution": {
     "iopub.execute_input": "2023-02-02T11:11:00.197068Z",
     "iopub.status.busy": "2023-02-02T11:11:00.196638Z",
     "iopub.status.idle": "2023-02-02T11:11:02.200784Z",
     "shell.execute_reply": "2023-02-02T11:11:02.199464Z"
    },
    "papermill": {
     "duration": 2.025189,
     "end_time": "2023-02-02T11:11:02.202888",
     "exception": false,
     "start_time": "2023-02-02T11:11:00.177699",
     "status": "completed"
    },
    "tags": []
   },
   "outputs": [
    {
     "data": {
      "text/html": [
       "<div>\n",
       "<style scoped>\n",
       "    .dataframe tbody tr th:only-of-type {\n",
       "        vertical-align: middle;\n",
       "    }\n",
       "\n",
       "    .dataframe tbody tr th {\n",
       "        vertical-align: top;\n",
       "    }\n",
       "\n",
       "    .dataframe thead tr th {\n",
       "        text-align: left;\n",
       "    }\n",
       "\n",
       "    .dataframe thead tr:last-of-type th {\n",
       "        text-align: right;\n",
       "    }\n",
       "</style>\n",
       "<table border=\"1\" class=\"dataframe\">\n",
       "  <thead>\n",
       "    <tr>\n",
       "      <th></th>\n",
       "      <th></th>\n",
       "      <th>count</th>\n",
       "    </tr>\n",
       "    <tr>\n",
       "      <th></th>\n",
       "      <th></th>\n",
       "      <th>ride_id</th>\n",
       "    </tr>\n",
       "    <tr>\n",
       "      <th>hour</th>\n",
       "      <th>member_casual</th>\n",
       "      <th></th>\n",
       "    </tr>\n",
       "  </thead>\n",
       "  <tbody>\n",
       "    <tr>\n",
       "      <th rowspan=\"2\" valign=\"top\">0</th>\n",
       "      <th>casual</th>\n",
       "      <td>46207</td>\n",
       "    </tr>\n",
       "    <tr>\n",
       "      <th>member</th>\n",
       "      <td>35844</td>\n",
       "    </tr>\n",
       "    <tr>\n",
       "      <th rowspan=\"2\" valign=\"top\">1</th>\n",
       "      <th>casual</th>\n",
       "      <td>30061</td>\n",
       "    </tr>\n",
       "    <tr>\n",
       "      <th>member</th>\n",
       "      <td>22088</td>\n",
       "    </tr>\n",
       "    <tr>\n",
       "      <th rowspan=\"2\" valign=\"top\">2</th>\n",
       "      <th>casual</th>\n",
       "      <td>18716</td>\n",
       "    </tr>\n",
       "    <tr>\n",
       "      <th>member</th>\n",
       "      <td>12756</td>\n",
       "    </tr>\n",
       "    <tr>\n",
       "      <th rowspan=\"2\" valign=\"top\">3</th>\n",
       "      <th>casual</th>\n",
       "      <td>11074</td>\n",
       "    </tr>\n",
       "    <tr>\n",
       "      <th>member</th>\n",
       "      <td>7945</td>\n",
       "    </tr>\n",
       "    <tr>\n",
       "      <th rowspan=\"2\" valign=\"top\">4</th>\n",
       "      <th>casual</th>\n",
       "      <td>7635</td>\n",
       "    </tr>\n",
       "    <tr>\n",
       "      <th>member</th>\n",
       "      <td>8904</td>\n",
       "    </tr>\n",
       "    <tr>\n",
       "      <th rowspan=\"2\" valign=\"top\">5</th>\n",
       "      <th>casual</th>\n",
       "      <td>12424</td>\n",
       "    </tr>\n",
       "    <tr>\n",
       "      <th>member</th>\n",
       "      <td>32508</td>\n",
       "    </tr>\n",
       "    <tr>\n",
       "      <th rowspan=\"2\" valign=\"top\">6</th>\n",
       "      <th>casual</th>\n",
       "      <td>29197</td>\n",
       "    </tr>\n",
       "    <tr>\n",
       "      <th>member</th>\n",
       "      <td>90641</td>\n",
       "    </tr>\n",
       "    <tr>\n",
       "      <th rowspan=\"2\" valign=\"top\">7</th>\n",
       "      <th>casual</th>\n",
       "      <td>51194</td>\n",
       "    </tr>\n",
       "    <tr>\n",
       "      <th>member</th>\n",
       "      <td>171852</td>\n",
       "    </tr>\n",
       "    <tr>\n",
       "      <th rowspan=\"2\" valign=\"top\">8</th>\n",
       "      <th>casual</th>\n",
       "      <td>69247</td>\n",
       "    </tr>\n",
       "    <tr>\n",
       "      <th>member</th>\n",
       "      <td>203860</td>\n",
       "    </tr>\n",
       "    <tr>\n",
       "      <th rowspan=\"2\" valign=\"top\">9</th>\n",
       "      <th>casual</th>\n",
       "      <td>72137</td>\n",
       "    </tr>\n",
       "    <tr>\n",
       "      <th>member</th>\n",
       "      <td>144308</td>\n",
       "    </tr>\n",
       "    <tr>\n",
       "      <th rowspan=\"2\" valign=\"top\">10</th>\n",
       "      <th>casual</th>\n",
       "      <td>93277</td>\n",
       "    </tr>\n",
       "    <tr>\n",
       "      <th>member</th>\n",
       "      <td>136320</td>\n",
       "    </tr>\n",
       "    <tr>\n",
       "      <th rowspan=\"2\" valign=\"top\">11</th>\n",
       "      <th>casual</th>\n",
       "      <td>121589</td>\n",
       "    </tr>\n",
       "    <tr>\n",
       "      <th>member</th>\n",
       "      <td>163177</td>\n",
       "    </tr>\n",
       "    <tr>\n",
       "      <th rowspan=\"2\" valign=\"top\">12</th>\n",
       "      <th>casual</th>\n",
       "      <td>144660</td>\n",
       "    </tr>\n",
       "    <tr>\n",
       "      <th>member</th>\n",
       "      <td>188497</td>\n",
       "    </tr>\n",
       "    <tr>\n",
       "      <th rowspan=\"2\" valign=\"top\">13</th>\n",
       "      <th>casual</th>\n",
       "      <td>150881</td>\n",
       "    </tr>\n",
       "    <tr>\n",
       "      <th>member</th>\n",
       "      <td>187451</td>\n",
       "    </tr>\n",
       "    <tr>\n",
       "      <th rowspan=\"2\" valign=\"top\">14</th>\n",
       "      <th>casual</th>\n",
       "      <td>160495</td>\n",
       "    </tr>\n",
       "    <tr>\n",
       "      <th>member</th>\n",
       "      <td>185979</td>\n",
       "    </tr>\n",
       "    <tr>\n",
       "      <th rowspan=\"2\" valign=\"top\">15</th>\n",
       "      <th>casual</th>\n",
       "      <td>178137</td>\n",
       "    </tr>\n",
       "    <tr>\n",
       "      <th>member</th>\n",
       "      <td>222140</td>\n",
       "    </tr>\n",
       "    <tr>\n",
       "      <th rowspan=\"2\" valign=\"top\">16</th>\n",
       "      <th>casual</th>\n",
       "      <td>197463</td>\n",
       "    </tr>\n",
       "    <tr>\n",
       "      <th>member</th>\n",
       "      <td>291409</td>\n",
       "    </tr>\n",
       "    <tr>\n",
       "      <th rowspan=\"2\" valign=\"top\">17</th>\n",
       "      <th>casual</th>\n",
       "      <td>219271</td>\n",
       "    </tr>\n",
       "    <tr>\n",
       "      <th>member</th>\n",
       "      <td>348111</td>\n",
       "    </tr>\n",
       "    <tr>\n",
       "      <th rowspan=\"2\" valign=\"top\">18</th>\n",
       "      <th>casual</th>\n",
       "      <td>196774</td>\n",
       "    </tr>\n",
       "    <tr>\n",
       "      <th>member</th>\n",
       "      <td>283839</td>\n",
       "    </tr>\n",
       "    <tr>\n",
       "      <th rowspan=\"2\" valign=\"top\">19</th>\n",
       "      <th>casual</th>\n",
       "      <td>150780</td>\n",
       "    </tr>\n",
       "    <tr>\n",
       "      <th>member</th>\n",
       "      <td>205289</td>\n",
       "    </tr>\n",
       "    <tr>\n",
       "      <th rowspan=\"2\" valign=\"top\">20</th>\n",
       "      <th>casual</th>\n",
       "      <td>111491</td>\n",
       "    </tr>\n",
       "    <tr>\n",
       "      <th>member</th>\n",
       "      <td>144321</td>\n",
       "    </tr>\n",
       "    <tr>\n",
       "      <th rowspan=\"2\" valign=\"top\">21</th>\n",
       "      <th>casual</th>\n",
       "      <td>95485</td>\n",
       "    </tr>\n",
       "    <tr>\n",
       "      <th>member</th>\n",
       "      <td>112914</td>\n",
       "    </tr>\n",
       "    <tr>\n",
       "      <th rowspan=\"2\" valign=\"top\">22</th>\n",
       "      <th>casual</th>\n",
       "      <td>86403</td>\n",
       "    </tr>\n",
       "    <tr>\n",
       "      <th>member</th>\n",
       "      <td>86714</td>\n",
       "    </tr>\n",
       "    <tr>\n",
       "      <th rowspan=\"2\" valign=\"top\">23</th>\n",
       "      <th>casual</th>\n",
       "      <td>64474</td>\n",
       "    </tr>\n",
       "    <tr>\n",
       "      <th>member</th>\n",
       "      <td>56811</td>\n",
       "    </tr>\n",
       "    <tr>\n",
       "      <th>Total Count</th>\n",
       "      <th></th>\n",
       "      <td>5662750</td>\n",
       "    </tr>\n",
       "  </tbody>\n",
       "</table>\n",
       "</div>"
      ],
      "text/plain": [
       "                             count\n",
       "                           ride_id\n",
       "hour        member_casual         \n",
       "0           casual           46207\n",
       "            member           35844\n",
       "1           casual           30061\n",
       "            member           22088\n",
       "2           casual           18716\n",
       "            member           12756\n",
       "3           casual           11074\n",
       "            member            7945\n",
       "4           casual            7635\n",
       "            member            8904\n",
       "5           casual           12424\n",
       "            member           32508\n",
       "6           casual           29197\n",
       "            member           90641\n",
       "7           casual           51194\n",
       "            member          171852\n",
       "8           casual           69247\n",
       "            member          203860\n",
       "9           casual           72137\n",
       "            member          144308\n",
       "10          casual           93277\n",
       "            member          136320\n",
       "11          casual          121589\n",
       "            member          163177\n",
       "12          casual          144660\n",
       "            member          188497\n",
       "13          casual          150881\n",
       "            member          187451\n",
       "14          casual          160495\n",
       "            member          185979\n",
       "15          casual          178137\n",
       "            member          222140\n",
       "16          casual          197463\n",
       "            member          291409\n",
       "17          casual          219271\n",
       "            member          348111\n",
       "18          casual          196774\n",
       "            member          283839\n",
       "19          casual          150780\n",
       "            member          205289\n",
       "20          casual          111491\n",
       "            member          144321\n",
       "21          casual           95485\n",
       "            member          112914\n",
       "22          casual           86403\n",
       "            member           86714\n",
       "23          casual           64474\n",
       "            member           56811\n",
       "Total Count                5662750"
      ]
     },
     "execution_count": 31,
     "metadata": {},
     "output_type": "execute_result"
    }
   ],
   "source": [
    "pd.pivot_table(tripdata_21_22,\n",
    "              index = ['hour', 'member_casual'],\n",
    "              values = 'ride_id',\n",
    "              aggfunc = ['count'],\n",
    "              margins = True,\n",
    "              margins_name = 'Total Count')"
   ]
  },
  {
   "cell_type": "code",
   "execution_count": 32,
   "id": "e434fea9",
   "metadata": {
    "execution": {
     "iopub.execute_input": "2023-02-02T11:11:02.240801Z",
     "iopub.status.busy": "2023-02-02T11:11:02.240403Z",
     "iopub.status.idle": "2023-02-02T11:11:04.373445Z",
     "shell.execute_reply": "2023-02-02T11:11:04.372234Z"
    },
    "papermill": {
     "duration": 2.155312,
     "end_time": "2023-02-02T11:11:04.376424",
     "exception": false,
     "start_time": "2023-02-02T11:11:02.221112",
     "status": "completed"
    },
    "tags": []
   },
   "outputs": [
    {
     "data": {
      "image/png": "[encoded data removed]",
      "text/plain": [
       "<Figure size 432x288 with 1 Axes>"
      ]
     },
     "metadata": {},
     "output_type": "display_data"
    }
   ],
   "source": [
    "plot_5 = tripdata_21_22.groupby(['hour','member_casual'],as_index = False).count()\n",
    "\n",
    "sns.lineplot(data=plot_5, \n",
    "            x='hour',\n",
    "            y='ride_id',\n",
    "            hue=\"member_casual\",\n",
    "            palette='magma',\n",
    "            style = \"member_casual\",\n",
    "            markers=True\n",
    "           )\n",
    "plt.xlabel(\"hour\",size = 10)\n",
    "plt.ylabel(\"Number Of Rides\",size = 10)\n",
    "plt.legend(bbox_to_anchor=(1.05, 1.0), loc='upper left', title = 'Member / Casual')\n",
    "plt.show()"
   ]
  },
  {
   "cell_type": "markdown",
   "id": "a803511f",
   "metadata": {
    "papermill": {
     "duration": 0.017583,
     "end_time": "2023-02-02T11:11:04.411975",
     "exception": false,
     "start_time": "2023-02-02T11:11:04.394392",
     "status": "completed"
    },
    "tags": []
   },
   "source": [
    "* In a day, **casual riders and members** use bike **more during afternoon and peak use during evening**.\n",
    "* In the **morning time**,the number of **casual riders are less than members**.This may be because **members use for commuting**."
   ]
  },
  {
   "cell_type": "markdown",
   "id": "fe71b3ce",
   "metadata": {
    "papermill": {
     "duration": 0.017171,
     "end_time": "2023-02-02T11:11:04.446762",
     "exception": false,
     "start_time": "2023-02-02T11:11:04.429591",
     "status": "completed"
    },
    "tags": []
   },
   "source": [
    "# 5.3  Analyzing Average Ride Length Between Casual riders and Members."
   ]
  },
  {
   "cell_type": "markdown",
   "id": "171f36da",
   "metadata": {
    "papermill": {
     "duration": 0.016876,
     "end_time": "2023-02-02T11:11:04.481008",
     "exception": false,
     "start_time": "2023-02-02T11:11:04.464132",
     "status": "completed"
    },
    "tags": []
   },
   "source": [
    "# 5.3.1.  Average Ride Length in 1 Year"
   ]
  },
  {
   "cell_type": "code",
   "execution_count": 33,
   "id": "b936aadf",
   "metadata": {
    "execution": {
     "iopub.execute_input": "2023-02-02T11:11:04.517448Z",
     "iopub.status.busy": "2023-02-02T11:11:04.516509Z",
     "iopub.status.idle": "2023-02-02T11:11:05.474603Z",
     "shell.execute_reply": "2023-02-02T11:11:05.473243Z"
    },
    "papermill": {
     "duration": 0.978537,
     "end_time": "2023-02-02T11:11:05.476679",
     "exception": false,
     "start_time": "2023-02-02T11:11:04.498142",
     "status": "completed"
    },
    "tags": []
   },
   "outputs": [
    {
     "data": {
      "text/html": [
       "<div>\n",
       "<style scoped>\n",
       "    .dataframe tbody tr th:only-of-type {\n",
       "        vertical-align: middle;\n",
       "    }\n",
       "\n",
       "    .dataframe tbody tr th {\n",
       "        vertical-align: top;\n",
       "    }\n",
       "\n",
       "    .dataframe thead tr th {\n",
       "        text-align: left;\n",
       "    }\n",
       "\n",
       "    .dataframe thead tr:last-of-type th {\n",
       "        text-align: right;\n",
       "    }\n",
       "</style>\n",
       "<table border=\"1\" class=\"dataframe\">\n",
       "  <thead>\n",
       "    <tr>\n",
       "      <th></th>\n",
       "      <th>mean</th>\n",
       "    </tr>\n",
       "    <tr>\n",
       "      <th></th>\n",
       "      <th>ride_length</th>\n",
       "    </tr>\n",
       "    <tr>\n",
       "      <th>member_casual</th>\n",
       "      <th></th>\n",
       "    </tr>\n",
       "  </thead>\n",
       "  <tbody>\n",
       "    <tr>\n",
       "      <th>casual</th>\n",
       "      <td>29.458475</td>\n",
       "    </tr>\n",
       "    <tr>\n",
       "      <th>member</th>\n",
       "      <td>12.875459</td>\n",
       "    </tr>\n",
       "    <tr>\n",
       "      <th>Avg_ride_length</th>\n",
       "      <td>19.666719</td>\n",
       "    </tr>\n",
       "  </tbody>\n",
       "</table>\n",
       "</div>"
      ],
      "text/plain": [
       "                       mean\n",
       "                ride_length\n",
       "member_casual              \n",
       "casual            29.458475\n",
       "member            12.875459\n",
       "Avg_ride_length   19.666719"
      ]
     },
     "execution_count": 33,
     "metadata": {},
     "output_type": "execute_result"
    }
   ],
   "source": [
    "pd.pivot_table(tripdata_21_22,\n",
    "               index = ['member_casual'],\n",
    "               values = 'ride_length',\n",
    "               aggfunc = ['mean'],\n",
    "               margins = True,\n",
    "               margins_name = 'Avg_ride_length'\n",
    "  )"
   ]
  },
  {
   "cell_type": "code",
   "execution_count": 34,
   "id": "1c547d41",
   "metadata": {
    "execution": {
     "iopub.execute_input": "2023-02-02T11:11:05.514470Z",
     "iopub.status.busy": "2023-02-02T11:11:05.514102Z",
     "iopub.status.idle": "2023-02-02T11:11:06.755740Z",
     "shell.execute_reply": "2023-02-02T11:11:06.754485Z"
    },
    "papermill": {
     "duration": 1.262777,
     "end_time": "2023-02-02T11:11:06.757674",
     "exception": false,
     "start_time": "2023-02-02T11:11:05.494897",
     "status": "completed"
    },
    "tags": []
   },
   "outputs": [
    {
     "data": {
      "image/png": "[encoded data removed]",
      "text/plain": [
       "<Figure size 432x288 with 1 Axes>"
      ]
     },
     "metadata": {},
     "output_type": "display_data"
    }
   ],
   "source": [
    "plot_6 = tripdata_21_22.groupby(['year','member_casual'],as_index = False).mean()\n",
    "\n",
    "sns.barplot(data=plot_6, \n",
    "            x='ride_length',\n",
    "            y='member_casual',\n",
    "            hue=\"member_casual\",\n",
    "            palette='magma',\n",
    "            saturation = .3,\n",
    "            orient='h')\n",
    "plt.xlabel(\"avg ride length in minutes\",size = 10)\n",
    "plt.ylabel(\"Member / Casual\",size = 10)\n",
    "plt.legend(bbox_to_anchor=(1.05, 1.0), loc='upper left', title = 'Member / Casual')\n",
    "plt.show()"
   ]
  },
  {
   "cell_type": "markdown",
   "id": "c440309c",
   "metadata": {
    "papermill": {
     "duration": 0.017612,
     "end_time": "2023-02-02T11:11:06.793460",
     "exception": false,
     "start_time": "2023-02-02T11:11:06.775848",
     "status": "completed"
    },
    "tags": []
   },
   "source": [
    "* Average ride length of **casual riders are more than twice the members**."
   ]
  },
  {
   "cell_type": "markdown",
   "id": "bb19f790",
   "metadata": {
    "papermill": {
     "duration": 0.017289,
     "end_time": "2023-02-02T11:11:06.828611",
     "exception": false,
     "start_time": "2023-02-02T11:11:06.811322",
     "status": "completed"
    },
    "tags": []
   },
   "source": [
    "# 5.3.2.  Average Ride Length In Month "
   ]
  },
  {
   "cell_type": "code",
   "execution_count": 35,
   "id": "1d241726",
   "metadata": {
    "execution": {
     "iopub.execute_input": "2023-02-02T11:11:06.865847Z",
     "iopub.status.busy": "2023-02-02T11:11:06.865512Z",
     "iopub.status.idle": "2023-02-02T11:11:07.799742Z",
     "shell.execute_reply": "2023-02-02T11:11:07.798389Z"
    },
    "papermill": {
     "duration": 0.956218,
     "end_time": "2023-02-02T11:11:07.802358",
     "exception": false,
     "start_time": "2023-02-02T11:11:06.846140",
     "status": "completed"
    },
    "tags": []
   },
   "outputs": [
    {
     "data": {
      "text/html": [
       "<div>\n",
       "<style scoped>\n",
       "    .dataframe tbody tr th:only-of-type {\n",
       "        vertical-align: middle;\n",
       "    }\n",
       "\n",
       "    .dataframe tbody tr th {\n",
       "        vertical-align: top;\n",
       "    }\n",
       "\n",
       "    .dataframe thead th {\n",
       "        text-align: right;\n",
       "    }\n",
       "</style>\n",
       "<table border=\"1\" class=\"dataframe\">\n",
       "  <thead>\n",
       "    <tr style=\"text-align: right;\">\n",
       "      <th></th>\n",
       "      <th></th>\n",
       "      <th>ride_length</th>\n",
       "    </tr>\n",
       "    <tr>\n",
       "      <th>month</th>\n",
       "      <th>member_casual</th>\n",
       "      <th></th>\n",
       "    </tr>\n",
       "  </thead>\n",
       "  <tbody>\n",
       "    <tr>\n",
       "      <th rowspan=\"2\" valign=\"top\">April</th>\n",
       "      <th>casual</th>\n",
       "      <td>29.880823</td>\n",
       "    </tr>\n",
       "    <tr>\n",
       "      <th>member</th>\n",
       "      <td>11.640182</td>\n",
       "    </tr>\n",
       "    <tr>\n",
       "      <th rowspan=\"2\" valign=\"top\">August</th>\n",
       "      <th>casual</th>\n",
       "      <td>29.680026</td>\n",
       "    </tr>\n",
       "    <tr>\n",
       "      <th>member</th>\n",
       "      <td>13.565502</td>\n",
       "    </tr>\n",
       "    <tr>\n",
       "      <th rowspan=\"2\" valign=\"top\">December</th>\n",
       "      <th>casual</th>\n",
       "      <td>23.699414</td>\n",
       "    </tr>\n",
       "    <tr>\n",
       "      <th>member</th>\n",
       "      <td>11.114730</td>\n",
       "    </tr>\n",
       "    <tr>\n",
       "      <th rowspan=\"2\" valign=\"top\">February</th>\n",
       "      <th>casual</th>\n",
       "      <td>27.095879</td>\n",
       "    </tr>\n",
       "    <tr>\n",
       "      <th>member</th>\n",
       "      <td>11.571285</td>\n",
       "    </tr>\n",
       "    <tr>\n",
       "      <th rowspan=\"2\" valign=\"top\">January</th>\n",
       "      <th>casual</th>\n",
       "      <td>30.806561</td>\n",
       "    </tr>\n",
       "    <tr>\n",
       "      <th>member</th>\n",
       "      <td>12.108960</td>\n",
       "    </tr>\n",
       "    <tr>\n",
       "      <th rowspan=\"2\" valign=\"top\">July</th>\n",
       "      <th>casual</th>\n",
       "      <td>29.627667</td>\n",
       "    </tr>\n",
       "    <tr>\n",
       "      <th>member</th>\n",
       "      <td>13.900834</td>\n",
       "    </tr>\n",
       "    <tr>\n",
       "      <th rowspan=\"2\" valign=\"top\">June</th>\n",
       "      <th>casual</th>\n",
       "      <td>32.465451</td>\n",
       "    </tr>\n",
       "    <tr>\n",
       "      <th>member</th>\n",
       "      <td>14.175365</td>\n",
       "    </tr>\n",
       "    <tr>\n",
       "      <th rowspan=\"2\" valign=\"top\">March</th>\n",
       "      <th>casual</th>\n",
       "      <td>32.969900</td>\n",
       "    </tr>\n",
       "    <tr>\n",
       "      <th>member</th>\n",
       "      <td>12.093147</td>\n",
       "    </tr>\n",
       "    <tr>\n",
       "      <th rowspan=\"2\" valign=\"top\">May</th>\n",
       "      <th>casual</th>\n",
       "      <td>31.225792</td>\n",
       "    </tr>\n",
       "    <tr>\n",
       "      <th>member</th>\n",
       "      <td>13.531168</td>\n",
       "    </tr>\n",
       "    <tr>\n",
       "      <th rowspan=\"2\" valign=\"top\">November</th>\n",
       "      <th>casual</th>\n",
       "      <td>21.599936</td>\n",
       "    </tr>\n",
       "    <tr>\n",
       "      <th>member</th>\n",
       "      <td>11.284819</td>\n",
       "    </tr>\n",
       "    <tr>\n",
       "      <th rowspan=\"2\" valign=\"top\">October</th>\n",
       "      <th>casual</th>\n",
       "      <td>26.740083</td>\n",
       "    </tr>\n",
       "    <tr>\n",
       "      <th>member</th>\n",
       "      <td>12.127170</td>\n",
       "    </tr>\n",
       "    <tr>\n",
       "      <th rowspan=\"2\" valign=\"top\">September</th>\n",
       "      <th>casual</th>\n",
       "      <td>28.320910</td>\n",
       "    </tr>\n",
       "    <tr>\n",
       "      <th>member</th>\n",
       "      <td>13.170824</td>\n",
       "    </tr>\n",
       "  </tbody>\n",
       "</table>\n",
       "</div>"
      ],
      "text/plain": [
       "                         ride_length\n",
       "month     member_casual             \n",
       "April     casual           29.880823\n",
       "          member           11.640182\n",
       "August    casual           29.680026\n",
       "          member           13.565502\n",
       "December  casual           23.699414\n",
       "          member           11.114730\n",
       "February  casual           27.095879\n",
       "          member           11.571285\n",
       "January   casual           30.806561\n",
       "          member           12.108960\n",
       "July      casual           29.627667\n",
       "          member           13.900834\n",
       "June      casual           32.465451\n",
       "          member           14.175365\n",
       "March     casual           32.969900\n",
       "          member           12.093147\n",
       "May       casual           31.225792\n",
       "          member           13.531168\n",
       "November  casual           21.599936\n",
       "          member           11.284819\n",
       "October   casual           26.740083\n",
       "          member           12.127170\n",
       "September casual           28.320910\n",
       "          member           13.170824"
      ]
     },
     "execution_count": 35,
     "metadata": {},
     "output_type": "execute_result"
    }
   ],
   "source": [
    "tripdata_21_22.groupby([\"month\",\"member_casual\"])[[\"ride_length\"]].mean()"
   ]
  },
  {
   "cell_type": "code",
   "execution_count": 36,
   "id": "606a5b48",
   "metadata": {
    "execution": {
     "iopub.execute_input": "2023-02-02T11:11:07.840232Z",
     "iopub.status.busy": "2023-02-02T11:11:07.839860Z",
     "iopub.status.idle": "2023-02-02T11:11:09.404935Z",
     "shell.execute_reply": "2023-02-02T11:11:09.403846Z"
    },
    "papermill": {
     "duration": 1.586926,
     "end_time": "2023-02-02T11:11:09.407560",
     "exception": false,
     "start_time": "2023-02-02T11:11:07.820634",
     "status": "completed"
    },
    "tags": []
   },
   "outputs": [
    {
     "data": {
      "image/png": "[encoded data removed]",
      "text/plain": [
       "<Figure size 432x288 with 1 Axes>"
      ]
     },
     "metadata": {},
     "output_type": "display_data"
    }
   ],
   "source": [
    "plot_7 = tripdata_21_22.groupby([\"month\",\"member_casual\"],as_index = False).mean()\n",
    "\n",
    "sns.lineplot(data=plot_7, \n",
    "            x='month',\n",
    "            y='ride_length',\n",
    "            hue=\"member_casual\",\n",
    "            palette='magma',\n",
    "            style = \"member_casual\",\n",
    "            markers=True\n",
    "           )\n",
    "plt.xlabel(\"month\",size = 10)\n",
    "plt.ylabel(\"avg ride length in minutes\",size = 10)\n",
    "plt.xticks(rotation=90)\n",
    "plt.legend(bbox_to_anchor=(1.05, 1.0), loc='upper left', title = 'Member / Casual')\n",
    "plt.show()\n",
    "         "
   ]
  },
  {
   "cell_type": "markdown",
   "id": "334591ca",
   "metadata": {
    "papermill": {
     "duration": 0.019526,
     "end_time": "2023-02-02T11:11:09.446946",
     "exception": false,
     "start_time": "2023-02-02T11:11:09.427420",
     "status": "completed"
    },
    "tags": []
   },
   "source": [
    "* Average ride length of **casual riders are more than twice the members**.\n",
    "* Average ride length of rides **fall during winter season and rise during summer season**."
   ]
  },
  {
   "cell_type": "markdown",
   "id": "0ca06d6b",
   "metadata": {
    "papermill": {
     "duration": 0.018675,
     "end_time": "2023-02-02T11:11:09.484908",
     "exception": false,
     "start_time": "2023-02-02T11:11:09.466233",
     "status": "completed"
    },
    "tags": []
   },
   "source": [
    "# 5.3.3.  Average Ride Length Each Weekday"
   ]
  },
  {
   "cell_type": "code",
   "execution_count": 37,
   "id": "7a493590",
   "metadata": {
    "execution": {
     "iopub.execute_input": "2023-02-02T11:11:09.525341Z",
     "iopub.status.busy": "2023-02-02T11:11:09.524376Z",
     "iopub.status.idle": "2023-02-02T11:11:10.514229Z",
     "shell.execute_reply": "2023-02-02T11:11:10.513035Z"
    },
    "papermill": {
     "duration": 1.013027,
     "end_time": "2023-02-02T11:11:10.516981",
     "exception": false,
     "start_time": "2023-02-02T11:11:09.503954",
     "status": "completed"
    },
    "tags": []
   },
   "outputs": [
    {
     "data": {
      "text/html": [
       "<div>\n",
       "<style scoped>\n",
       "    .dataframe tbody tr th:only-of-type {\n",
       "        vertical-align: middle;\n",
       "    }\n",
       "\n",
       "    .dataframe tbody tr th {\n",
       "        vertical-align: top;\n",
       "    }\n",
       "\n",
       "    .dataframe thead th {\n",
       "        text-align: right;\n",
       "    }\n",
       "</style>\n",
       "<table border=\"1\" class=\"dataframe\">\n",
       "  <thead>\n",
       "    <tr style=\"text-align: right;\">\n",
       "      <th></th>\n",
       "      <th></th>\n",
       "      <th>ride_length</th>\n",
       "    </tr>\n",
       "    <tr>\n",
       "      <th>day_of_week</th>\n",
       "      <th>member_casual</th>\n",
       "      <th></th>\n",
       "    </tr>\n",
       "  </thead>\n",
       "  <tbody>\n",
       "    <tr>\n",
       "      <th rowspan=\"2\" valign=\"top\">Friday</th>\n",
       "      <th>casual</th>\n",
       "      <td>28.120333</td>\n",
       "    </tr>\n",
       "    <tr>\n",
       "      <th>member</th>\n",
       "      <td>12.661162</td>\n",
       "    </tr>\n",
       "    <tr>\n",
       "      <th rowspan=\"2\" valign=\"top\">Monday</th>\n",
       "      <th>casual</th>\n",
       "      <td>29.574242</td>\n",
       "    </tr>\n",
       "    <tr>\n",
       "      <th>member</th>\n",
       "      <td>12.424925</td>\n",
       "    </tr>\n",
       "    <tr>\n",
       "      <th rowspan=\"2\" valign=\"top\">Saturday</th>\n",
       "      <th>casual</th>\n",
       "      <td>32.928009</td>\n",
       "    </tr>\n",
       "    <tr>\n",
       "      <th>member</th>\n",
       "      <td>14.346249</td>\n",
       "    </tr>\n",
       "    <tr>\n",
       "      <th rowspan=\"2\" valign=\"top\">Sunday</th>\n",
       "      <th>casual</th>\n",
       "      <td>34.498482</td>\n",
       "    </tr>\n",
       "    <tr>\n",
       "      <th>member</th>\n",
       "      <td>14.241229</td>\n",
       "    </tr>\n",
       "    <tr>\n",
       "      <th rowspan=\"2\" valign=\"top\">Thursday</th>\n",
       "      <th>casual</th>\n",
       "      <td>25.872317</td>\n",
       "    </tr>\n",
       "    <tr>\n",
       "      <th>member</th>\n",
       "      <td>12.454395</td>\n",
       "    </tr>\n",
       "    <tr>\n",
       "      <th rowspan=\"2\" valign=\"top\">Tuesday</th>\n",
       "      <th>casual</th>\n",
       "      <td>26.299143</td>\n",
       "    </tr>\n",
       "    <tr>\n",
       "      <th>member</th>\n",
       "      <td>12.296761</td>\n",
       "    </tr>\n",
       "    <tr>\n",
       "      <th rowspan=\"2\" valign=\"top\">Wednesday</th>\n",
       "      <th>casual</th>\n",
       "      <td>24.996418</td>\n",
       "    </tr>\n",
       "    <tr>\n",
       "      <th>member</th>\n",
       "      <td>12.238987</td>\n",
       "    </tr>\n",
       "  </tbody>\n",
       "</table>\n",
       "</div>"
      ],
      "text/plain": [
       "                           ride_length\n",
       "day_of_week member_casual             \n",
       "Friday      casual           28.120333\n",
       "            member           12.661162\n",
       "Monday      casual           29.574242\n",
       "            member           12.424925\n",
       "Saturday    casual           32.928009\n",
       "            member           14.346249\n",
       "Sunday      casual           34.498482\n",
       "            member           14.241229\n",
       "Thursday    casual           25.872317\n",
       "            member           12.454395\n",
       "Tuesday     casual           26.299143\n",
       "            member           12.296761\n",
       "Wednesday   casual           24.996418\n",
       "            member           12.238987"
      ]
     },
     "execution_count": 37,
     "metadata": {},
     "output_type": "execute_result"
    }
   ],
   "source": [
    "tripdata_21_22.groupby([\"day_of_week\",\"member_casual\"])[[\"ride_length\"]].mean()"
   ]
  },
  {
   "cell_type": "code",
   "execution_count": 38,
   "id": "84fb0a8c",
   "metadata": {
    "execution": {
     "iopub.execute_input": "2023-02-02T11:11:10.557368Z",
     "iopub.status.busy": "2023-02-02T11:11:10.556718Z",
     "iopub.status.idle": "2023-02-02T11:11:12.157478Z",
     "shell.execute_reply": "2023-02-02T11:11:12.156597Z"
    },
    "papermill": {
     "duration": 1.623023,
     "end_time": "2023-02-02T11:11:12.159292",
     "exception": false,
     "start_time": "2023-02-02T11:11:10.536269",
     "status": "completed"
    },
    "tags": []
   },
   "outputs": [
    {
     "data": {
      "image/png": "[encoded data removed]",
      "text/plain": [
       "<Figure size 432x288 with 1 Axes>"
      ]
     },
     "metadata": {},
     "output_type": "display_data"
    }
   ],
   "source": [
    "plot_8 = tripdata_21_22.groupby([\"day_of_week\",\"member_casual\"],as_index = False).mean()\n",
    "\n",
    "sns.lineplot(data=plot_8, \n",
    "            x='day_of_week',\n",
    "            y='ride_length',\n",
    "            hue=\"member_casual\",\n",
    "            palette='magma',\n",
    "            style = \"member_casual\",\n",
    "            markers=True\n",
    "           )\n",
    "plt.xlabel(\"month\",size = 10)\n",
    "plt.ylabel(\"avg ride length in minutes\",size = 10)\n",
    "plt.xticks(rotation=90)\n",
    "plt.legend(bbox_to_anchor=(1.05, 1.0), loc='upper left', title = 'Member / Casual')\n",
    "plt.show()"
   ]
  },
  {
   "cell_type": "markdown",
   "id": "151b6580",
   "metadata": {
    "papermill": {
     "duration": 0.01883,
     "end_time": "2023-02-02T11:11:12.197209",
     "exception": false,
     "start_time": "2023-02-02T11:11:12.178379",
     "status": "completed"
    },
    "tags": []
   },
   "source": [
    "* In Weekends **casual riders** ride length is **maximum when compared to Weekdays**.\n",
    "* **Members** ride length tend to be almost same in all **Weekdays and marginally higher in Weekends**.\n",
    "* Both **Casual riders and Members** use bikes for **long rides during Weekends**."
   ]
  },
  {
   "cell_type": "markdown",
   "id": "84483f85",
   "metadata": {
    "papermill": {
     "duration": 0.019032,
     "end_time": "2023-02-02T11:11:12.235268",
     "exception": false,
     "start_time": "2023-02-02T11:11:12.216236",
     "status": "completed"
    },
    "tags": []
   },
   "source": [
    "# 5.3.4. Average Ride Length Each Hour "
   ]
  },
  {
   "cell_type": "code",
   "execution_count": 39,
   "id": "be964ce2",
   "metadata": {
    "execution": {
     "iopub.execute_input": "2023-02-02T11:11:12.280733Z",
     "iopub.status.busy": "2023-02-02T11:11:12.280238Z",
     "iopub.status.idle": "2023-02-02T11:11:12.889713Z",
     "shell.execute_reply": "2023-02-02T11:11:12.888889Z"
    },
    "papermill": {
     "duration": 0.637192,
     "end_time": "2023-02-02T11:11:12.891566",
     "exception": false,
     "start_time": "2023-02-02T11:11:12.254374",
     "status": "completed"
    },
    "tags": []
   },
   "outputs": [
    {
     "data": {
      "text/html": [
       "<div>\n",
       "<style scoped>\n",
       "    .dataframe tbody tr th:only-of-type {\n",
       "        vertical-align: middle;\n",
       "    }\n",
       "\n",
       "    .dataframe tbody tr th {\n",
       "        vertical-align: top;\n",
       "    }\n",
       "\n",
       "    .dataframe thead th {\n",
       "        text-align: right;\n",
       "    }\n",
       "</style>\n",
       "<table border=\"1\" class=\"dataframe\">\n",
       "  <thead>\n",
       "    <tr style=\"text-align: right;\">\n",
       "      <th></th>\n",
       "      <th></th>\n",
       "      <th>ride_length</th>\n",
       "    </tr>\n",
       "    <tr>\n",
       "      <th>hour</th>\n",
       "      <th>member_casual</th>\n",
       "      <th></th>\n",
       "    </tr>\n",
       "  </thead>\n",
       "  <tbody>\n",
       "    <tr>\n",
       "      <th rowspan=\"2\" valign=\"top\">0</th>\n",
       "      <th>casual</th>\n",
       "      <td>30.859805</td>\n",
       "    </tr>\n",
       "    <tr>\n",
       "      <th>member</th>\n",
       "      <td>13.276922</td>\n",
       "    </tr>\n",
       "    <tr>\n",
       "      <th rowspan=\"2\" valign=\"top\">1</th>\n",
       "      <th>casual</th>\n",
       "      <td>38.502977</td>\n",
       "    </tr>\n",
       "    <tr>\n",
       "      <th>member</th>\n",
       "      <td>13.511862</td>\n",
       "    </tr>\n",
       "    <tr>\n",
       "      <th rowspan=\"2\" valign=\"top\">2</th>\n",
       "      <th>casual</th>\n",
       "      <td>41.916221</td>\n",
       "    </tr>\n",
       "    <tr>\n",
       "      <th>member</th>\n",
       "      <td>13.112104</td>\n",
       "    </tr>\n",
       "    <tr>\n",
       "      <th rowspan=\"2\" valign=\"top\">3</th>\n",
       "      <th>casual</th>\n",
       "      <td>41.565288</td>\n",
       "    </tr>\n",
       "    <tr>\n",
       "      <th>member</th>\n",
       "      <td>13.325739</td>\n",
       "    </tr>\n",
       "    <tr>\n",
       "      <th rowspan=\"2\" valign=\"top\">4</th>\n",
       "      <th>casual</th>\n",
       "      <td>38.763720</td>\n",
       "    </tr>\n",
       "    <tr>\n",
       "      <th>member</th>\n",
       "      <td>13.393531</td>\n",
       "    </tr>\n",
       "    <tr>\n",
       "      <th rowspan=\"2\" valign=\"top\">5</th>\n",
       "      <th>casual</th>\n",
       "      <td>29.082341</td>\n",
       "    </tr>\n",
       "    <tr>\n",
       "      <th>member</th>\n",
       "      <td>10.782823</td>\n",
       "    </tr>\n",
       "    <tr>\n",
       "      <th rowspan=\"2\" valign=\"top\">6</th>\n",
       "      <th>casual</th>\n",
       "      <td>24.276672</td>\n",
       "    </tr>\n",
       "    <tr>\n",
       "      <th>member</th>\n",
       "      <td>11.392681</td>\n",
       "    </tr>\n",
       "    <tr>\n",
       "      <th rowspan=\"2\" valign=\"top\">7</th>\n",
       "      <th>casual</th>\n",
       "      <td>19.947924</td>\n",
       "    </tr>\n",
       "    <tr>\n",
       "      <th>member</th>\n",
       "      <td>11.860037</td>\n",
       "    </tr>\n",
       "    <tr>\n",
       "      <th rowspan=\"2\" valign=\"top\">8</th>\n",
       "      <th>casual</th>\n",
       "      <td>20.748509</td>\n",
       "    </tr>\n",
       "    <tr>\n",
       "      <th>member</th>\n",
       "      <td>11.627087</td>\n",
       "    </tr>\n",
       "    <tr>\n",
       "      <th rowspan=\"2\" valign=\"top\">9</th>\n",
       "      <th>casual</th>\n",
       "      <td>26.015429</td>\n",
       "    </tr>\n",
       "    <tr>\n",
       "      <th>member</th>\n",
       "      <td>11.714285</td>\n",
       "    </tr>\n",
       "    <tr>\n",
       "      <th rowspan=\"2\" valign=\"top\">10</th>\n",
       "      <th>casual</th>\n",
       "      <td>32.324088</td>\n",
       "    </tr>\n",
       "    <tr>\n",
       "      <th>member</th>\n",
       "      <td>12.625528</td>\n",
       "    </tr>\n",
       "    <tr>\n",
       "      <th rowspan=\"2\" valign=\"top\">11</th>\n",
       "      <th>casual</th>\n",
       "      <td>32.221895</td>\n",
       "    </tr>\n",
       "    <tr>\n",
       "      <th>member</th>\n",
       "      <td>12.983135</td>\n",
       "    </tr>\n",
       "    <tr>\n",
       "      <th rowspan=\"2\" valign=\"top\">12</th>\n",
       "      <th>casual</th>\n",
       "      <td>31.330942</td>\n",
       "    </tr>\n",
       "    <tr>\n",
       "      <th>member</th>\n",
       "      <td>12.616185</td>\n",
       "    </tr>\n",
       "    <tr>\n",
       "      <th rowspan=\"2\" valign=\"top\">13</th>\n",
       "      <th>casual</th>\n",
       "      <td>31.445782</td>\n",
       "    </tr>\n",
       "    <tr>\n",
       "      <th>member</th>\n",
       "      <td>12.695174</td>\n",
       "    </tr>\n",
       "    <tr>\n",
       "      <th rowspan=\"2\" valign=\"top\">14</th>\n",
       "      <th>casual</th>\n",
       "      <td>31.639328</td>\n",
       "    </tr>\n",
       "    <tr>\n",
       "      <th>member</th>\n",
       "      <td>13.129870</td>\n",
       "    </tr>\n",
       "    <tr>\n",
       "      <th rowspan=\"2\" valign=\"top\">15</th>\n",
       "      <th>casual</th>\n",
       "      <td>31.893638</td>\n",
       "    </tr>\n",
       "    <tr>\n",
       "      <th>member</th>\n",
       "      <td>13.181831</td>\n",
       "    </tr>\n",
       "    <tr>\n",
       "      <th rowspan=\"2\" valign=\"top\">16</th>\n",
       "      <th>casual</th>\n",
       "      <td>29.211285</td>\n",
       "    </tr>\n",
       "    <tr>\n",
       "      <th>member</th>\n",
       "      <td>13.456300</td>\n",
       "    </tr>\n",
       "    <tr>\n",
       "      <th rowspan=\"2\" valign=\"top\">17</th>\n",
       "      <th>casual</th>\n",
       "      <td>26.465616</td>\n",
       "    </tr>\n",
       "    <tr>\n",
       "      <th>member</th>\n",
       "      <td>13.717418</td>\n",
       "    </tr>\n",
       "    <tr>\n",
       "      <th rowspan=\"2\" valign=\"top\">18</th>\n",
       "      <th>casual</th>\n",
       "      <td>27.901267</td>\n",
       "    </tr>\n",
       "    <tr>\n",
       "      <th>member</th>\n",
       "      <td>13.457414</td>\n",
       "    </tr>\n",
       "    <tr>\n",
       "      <th rowspan=\"2\" valign=\"top\">19</th>\n",
       "      <th>casual</th>\n",
       "      <td>29.655312</td>\n",
       "    </tr>\n",
       "    <tr>\n",
       "      <th>member</th>\n",
       "      <td>13.266390</td>\n",
       "    </tr>\n",
       "    <tr>\n",
       "      <th rowspan=\"2\" valign=\"top\">20</th>\n",
       "      <th>casual</th>\n",
       "      <td>28.640043</td>\n",
       "    </tr>\n",
       "    <tr>\n",
       "      <th>member</th>\n",
       "      <td>13.061238</td>\n",
       "    </tr>\n",
       "    <tr>\n",
       "      <th rowspan=\"2\" valign=\"top\">21</th>\n",
       "      <th>casual</th>\n",
       "      <td>28.209782</td>\n",
       "    </tr>\n",
       "    <tr>\n",
       "      <th>member</th>\n",
       "      <td>12.856457</td>\n",
       "    </tr>\n",
       "    <tr>\n",
       "      <th rowspan=\"2\" valign=\"top\">22</th>\n",
       "      <th>casual</th>\n",
       "      <td>26.839577</td>\n",
       "    </tr>\n",
       "    <tr>\n",
       "      <th>member</th>\n",
       "      <td>12.799179</td>\n",
       "    </tr>\n",
       "    <tr>\n",
       "      <th rowspan=\"2\" valign=\"top\">23</th>\n",
       "      <th>casual</th>\n",
       "      <td>32.253063</td>\n",
       "    </tr>\n",
       "    <tr>\n",
       "      <th>member</th>\n",
       "      <td>13.179701</td>\n",
       "    </tr>\n",
       "  </tbody>\n",
       "</table>\n",
       "</div>"
      ],
      "text/plain": [
       "                    ride_length\n",
       "hour member_casual             \n",
       "0    casual           30.859805\n",
       "     member           13.276922\n",
       "1    casual           38.502977\n",
       "     member           13.511862\n",
       "2    casual           41.916221\n",
       "     member           13.112104\n",
       "3    casual           41.565288\n",
       "     member           13.325739\n",
       "4    casual           38.763720\n",
       "     member           13.393531\n",
       "5    casual           29.082341\n",
       "     member           10.782823\n",
       "6    casual           24.276672\n",
       "     member           11.392681\n",
       "7    casual           19.947924\n",
       "     member           11.860037\n",
       "8    casual           20.748509\n",
       "     member           11.627087\n",
       "9    casual           26.015429\n",
       "     member           11.714285\n",
       "10   casual           32.324088\n",
       "     member           12.625528\n",
       "11   casual           32.221895\n",
       "     member           12.983135\n",
       "12   casual           31.330942\n",
       "     member           12.616185\n",
       "13   casual           31.445782\n",
       "     member           12.695174\n",
       "14   casual           31.639328\n",
       "     member           13.129870\n",
       "15   casual           31.893638\n",
       "     member           13.181831\n",
       "16   casual           29.211285\n",
       "     member           13.456300\n",
       "17   casual           26.465616\n",
       "     member           13.717418\n",
       "18   casual           27.901267\n",
       "     member           13.457414\n",
       "19   casual           29.655312\n",
       "     member           13.266390\n",
       "20   casual           28.640043\n",
       "     member           13.061238\n",
       "21   casual           28.209782\n",
       "     member           12.856457\n",
       "22   casual           26.839577\n",
       "     member           12.799179\n",
       "23   casual           32.253063\n",
       "     member           13.179701"
      ]
     },
     "execution_count": 39,
     "metadata": {},
     "output_type": "execute_result"
    }
   ],
   "source": [
    "tripdata_21_22.groupby([\"hour\",\"member_casual\"])[[\"ride_length\"]].mean()"
   ]
  },
  {
   "cell_type": "code",
   "execution_count": 40,
   "id": "d8763082",
   "metadata": {
    "execution": {
     "iopub.execute_input": "2023-02-02T11:11:12.932741Z",
     "iopub.status.busy": "2023-02-02T11:11:12.932110Z",
     "iopub.status.idle": "2023-02-02T11:11:14.164793Z",
     "shell.execute_reply": "2023-02-02T11:11:14.163840Z"
    },
    "papermill": {
     "duration": 1.256046,
     "end_time": "2023-02-02T11:11:14.167011",
     "exception": false,
     "start_time": "2023-02-02T11:11:12.910965",
     "status": "completed"
    },
    "tags": []
   },
   "outputs": [
    {
     "data": {
      "image/png": "[encoded data removed]",
      "text/plain": [
       "<Figure size 432x288 with 1 Axes>"
      ]
     },
     "metadata": {},
     "output_type": "display_data"
    }
   ],
   "source": [
    "plot_9 = tripdata_21_22.groupby([\"hour\",\"member_casual\"],as_index = False).mean()\n",
    "\n",
    "sns.lineplot(data=plot_9, \n",
    "            x='hour',\n",
    "            y='ride_length',\n",
    "            hue=\"member_casual\",\n",
    "            palette='magma',\n",
    "            style = \"member_casual\",\n",
    "            markers=True\n",
    "           )\n",
    "plt.xlabel(\"hours\",size = 10)\n",
    "plt.ylabel(\"avg ride length in minutes\",size = 10)\n",
    "plt.xticks(rotation=90)\n",
    "plt.legend(bbox_to_anchor=(1.05, 1.0), loc='upper left', title = 'Member / Casual')\n",
    "plt.show()"
   ]
  },
  {
   "cell_type": "markdown",
   "id": "be8d221f",
   "metadata": {
    "papermill": {
     "duration": 0.019848,
     "end_time": "2023-02-02T11:11:14.207077",
     "exception": false,
     "start_time": "2023-02-02T11:11:14.187229",
     "status": "completed"
    },
    "tags": []
   },
   "source": [
    "* **Members** ride length tend to be almost same in all **through out a day**\n",
    "* **Casual riders** ride length tend to be in **peak during afternoon and night** ."
   ]
  },
  {
   "cell_type": "markdown",
   "id": "369e8fa8",
   "metadata": {
    "papermill": {
     "duration": 0.020237,
     "end_time": "2023-02-02T11:11:14.247489",
     "exception": false,
     "start_time": "2023-02-02T11:11:14.227252",
     "status": "completed"
    },
    "tags": []
   },
   "source": [
    "# 6.  ACT"
   ]
  },
  {
   "cell_type": "markdown",
   "id": "c6efecba",
   "metadata": {
    "papermill": {
     "duration": 0.019956,
     "end_time": "2023-02-02T11:11:14.287747",
     "exception": false,
     "start_time": "2023-02-02T11:11:14.267791",
     "status": "completed"
    },
    "tags": []
   },
   "source": [
    "# 6.1  Conclusion"
   ]
  },
  {
   "cell_type": "markdown",
   "id": "771551df",
   "metadata": {
    "papermill": {
     "duration": 0.019961,
     "end_time": "2023-02-02T11:11:14.328024",
     "exception": false,
     "start_time": "2023-02-02T11:11:14.308063",
     "status": "completed"
    },
    "tags": []
   },
   "source": [
    "* Annual members and Casual riders use Cyclistic bike share differently.\n",
    "\n",
    "* The **average ride length** of **casual riders** are more than **twice** as of **members**.\n",
    "\n",
    "* From the average ride length difference, we can conclude that **Annual members** usually use bike share for **daily commuting**, while **casual riders** mostly use bike share for **leisure rides mostly during Weekends**.\n",
    "\n",
    "* There are a **fixed number of casual riders** who use bike share for **commuting**."
   ]
  },
  {
   "cell_type": "markdown",
   "id": "181aae4c",
   "metadata": {
    "papermill": {
     "duration": 0.019978,
     "end_time": "2023-02-02T11:11:14.368574",
     "exception": false,
     "start_time": "2023-02-02T11:11:14.348596",
     "status": "completed"
    },
    "tags": []
   },
   "source": [
    "# 6.2  Recommendations"
   ]
  },
  {
   "cell_type": "markdown",
   "id": "d6124bbe",
   "metadata": {
    "papermill": {
     "duration": 0.019978,
     "end_time": "2023-02-02T11:11:14.408673",
     "exception": false,
     "start_time": "2023-02-02T11:11:14.388695",
     "status": "completed"
    },
    "tags": []
   },
   "source": [
    "* A new **Annual Membership** package for **Weekend** usage only will attract current **Weekend casual riders**.\n",
    "* A seasonal membership option for **casual rider** which mostly ride on **May - October** only\n",
    "* Promotional offers for **ride length extension** on membership for **casual riders**."
   ]
  },
  {
   "cell_type": "markdown",
   "id": "bd7fc305",
   "metadata": {
    "papermill": {
     "duration": 0.021484,
     "end_time": "2023-02-02T11:11:14.451104",
     "exception": false,
     "start_time": "2023-02-02T11:11:14.429620",
     "status": "completed"
    },
    "tags": []
   },
   "source": [
    "# 6.3 Further discussion"
   ]
  },
  {
   "cell_type": "markdown",
   "id": "2c0965e9",
   "metadata": {
    "papermill": {
     "duration": 0.019658,
     "end_time": "2023-02-02T11:11:14.490889",
     "exception": false,
     "start_time": "2023-02-02T11:11:14.471231",
     "status": "completed"
    },
    "tags": []
   },
   "source": [
    "1. This case study have not include the information for fee for casual ride/member ride and its relationship with ride length.\n",
    "\n",
    "With the fee information it would help to explore the potenial reasons why a rider would choose casual option over member option if the rider is a\n",
    "\n",
    "* Seasonal rider\n",
    "* Weekend rider\n",
    "* Long trip rider\n",
    "\n",
    "2. If the personally identifiable information and financial information were available, I could have calculated whether the casual riders had spent more money than if they opt for taking annual memberships."
   ]
  }
 ],
 "metadata": {
  "kernelspec": {
   "display_name": "Python 3",
   "language": "python",
   "name": "python3"
  },
  "language_info": {
   "codemirror_mode": {
    "name": "ipython",
    "version": 3
   },
   "file_extension": ".py",
   "mimetype": "text/x-python",
   "name": "python",
   "nbconvert_exporter": "python",
   "pygments_lexer": "ipython3",
   "version": "3.7.12"
  },
  "papermill": {
   "default_parameters": {},
   "duration": 1059.521581,
   "end_time": "2023-02-02T11:11:16.036381",
   "environment_variables": {},
   "exception": null,
   "input_path": "__notebook__.ipynb",
   "output_path": "__notebook__.ipynb",
   "parameters": {},
   "start_time": "2023-02-02T10:53:36.514800",
   "version": "2.3.4"
  }
 },
 "nbformat": 4,
 "nbformat_minor": 5
}
